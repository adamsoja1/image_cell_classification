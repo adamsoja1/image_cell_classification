{
 "cells": [
  {
   "cell_type": "code",
   "execution_count": 1,
   "id": "e6d9a631-1542-4a49-bab1-0376f837fa1f",
   "metadata": {},
   "outputs": [
    {
     "name": "stderr",
     "output_type": "stream",
     "text": [
      "/home/adam/miniconda3/envs/cells/lib/python3.10/site-packages/sentence_transformers/cross_encoder/CrossEncoder.py:11: TqdmWarning: IProgress not found. Please update jupyter and ipywidgets. See https://ipywidgets.readthedocs.io/en/stable/user_install.html\n",
      "  from tqdm.autonotebook import tqdm, trange\n"
     ]
    }
   ],
   "source": [
    "from sentence_transformers import SentenceTransformer\n",
    "from PIL import Image\n",
    "import os\n",
    "\n",
    "model = SentenceTransformer(\"clip-ViT-B-32\")\n",
    "model = model.to('cuda')\n"
   ]
  },
  {
   "cell_type": "code",
   "execution_count": 2,
   "id": "4fabba68-cd3e-47b8-afec-51379e0d9ec6",
   "metadata": {},
   "outputs": [],
   "source": [
    "encodings = []\n",
    "classes = []\n",
    "path = []\n",
    "for image_class in os.listdir('cells_final'):\n",
    "    for img in os.listdir(f'cells_final/{image_class}'):\n",
    "        path.append(f'cells_final/{image_class}/{img}')\n",
    "        encodings.append(model.encode(Image.open(f'cells_final/{image_class}/{img}')))\n",
    "        classes.append(image_class)\n",
    "                         \n",
    "        "
   ]
  },
  {
   "cell_type": "code",
   "execution_count": 4,
   "id": "fb90b971-30f6-4737-9af4-0da56640fe4f",
   "metadata": {},
   "outputs": [],
   "source": [
    "import pandas as pd\n",
    "df = pd.DataFrame()\n",
    "df['embeddings'] = encodings\n",
    "df['classes'] = classes\n",
    "df['path'] = path\n",
    "df.to_csv('embedings.csv')"
   ]
  },
  {
   "cell_type": "code",
   "execution_count": 2,
   "id": "4244dd1b-1f03-4447-8a7a-81eeed582fe6",
   "metadata": {},
   "outputs": [
    {
     "name": "stdout",
     "output_type": "stream",
     "text": [
      "Collecting tsnecuda\n",
      "  Using cached tsnecuda-3.0.1-py3-none-any.whl.metadata (1.3 kB)\n",
      "Requirement already satisfied: numpy>=1.14.1 in /home/adam/miniconda3/envs/cells/lib/python3.10/site-packages (from tsnecuda) (1.26.4)\n",
      "Using cached tsnecuda-3.0.1-py3-none-any.whl (53.2 MB)\n",
      "Installing collected packages: tsnecuda\n",
      "Successfully installed tsnecuda-3.0.1\n"
     ]
    }
   ],
   "source": [
    "!pip3 install tsnecuda "
   ]
  },
  {
   "cell_type": "code",
   "execution_count": 1,
   "id": "f730e0ef-de27-46ac-9d68-e047762c71ae",
   "metadata": {},
   "outputs": [],
   "source": [
    "import pandas as pd\n",
    "df = pd.read_csv('embedings.csv')"
   ]
  },
  {
   "cell_type": "code",
   "execution_count": 5,
   "id": "5772f66b-1615-4680-9d6d-5608d67612c4",
   "metadata": {},
   "outputs": [
    {
     "ename": "SyntaxError",
     "evalue": "invalid syntax. Perhaps you forgot a comma? (<string>, line 1)",
     "output_type": "error",
     "traceback": [
      "Traceback \u001b[0;36m(most recent call last)\u001b[0m:\n",
      "\u001b[0m  File \u001b[1;32m~/miniconda3/envs/cells/lib/python3.10/site-packages/IPython/core/interactiveshell.py:3577\u001b[0m in \u001b[1;35mrun_code\u001b[0m\n    exec(code_obj, self.user_global_ns, self.user_ns)\u001b[0m\n",
      "\u001b[0m  Cell \u001b[1;32mIn[5], line 4\u001b[0m\n    df['embeddings'] = df['embeddings'].apply(eval)\u001b[0m\n",
      "\u001b[0m  File \u001b[1;32m~/miniconda3/envs/cells/lib/python3.10/site-packages/pandas/core/series.py:4924\u001b[0m in \u001b[1;35mapply\u001b[0m\n    ).apply()\u001b[0m\n",
      "\u001b[0m  File \u001b[1;32m~/miniconda3/envs/cells/lib/python3.10/site-packages/pandas/core/apply.py:1427\u001b[0m in \u001b[1;35mapply\u001b[0m\n    return self.apply_standard()\u001b[0m\n",
      "\u001b[0m  File \u001b[1;32m~/miniconda3/envs/cells/lib/python3.10/site-packages/pandas/core/apply.py:1507\u001b[0m in \u001b[1;35mapply_standard\u001b[0m\n    mapped = obj._map_values(\u001b[0m\n",
      "\u001b[0m  File \u001b[1;32m~/miniconda3/envs/cells/lib/python3.10/site-packages/pandas/core/base.py:921\u001b[0m in \u001b[1;35m_map_values\u001b[0m\n    return algorithms.map_array(arr, mapper, na_action=na_action, convert=convert)\u001b[0m\n",
      "\u001b[0m  File \u001b[1;32m~/miniconda3/envs/cells/lib/python3.10/site-packages/pandas/core/algorithms.py:1743\u001b[0m in \u001b[1;35mmap_array\u001b[0m\n    return lib.map_infer(values, mapper, convert=convert)\u001b[0m\n",
      "\u001b[0;36m  File \u001b[0;32mlib.pyx:2972\u001b[0;36m in \u001b[0;35mpandas._libs.lib.map_infer\u001b[0;36m\n",
      "\u001b[0;36m  File \u001b[0;32m<string>:1\u001b[0;36m\u001b[0m\n\u001b[0;31m    [ 1.60957545e-01 -2.77833760e-01 -3.35993618e-01 -2.05521435e-01\u001b[0m\n\u001b[0m      ^\u001b[0m\n\u001b[0;31mSyntaxError\u001b[0m\u001b[0;31m:\u001b[0m invalid syntax. Perhaps you forgot a comma?\n"
     ]
    }
   ],
   "source": [
    "from sklearn.manifold import TSNE\n",
    "import numpy as np\n",
    "\n",
    "df['embeddings'] = df['embeddings'].apply(eval)\n",
    "\n",
    "# Convert the lists into a 2D numpy array\n",
    "embeddings_array = np.array(df['embeddings'])\n",
    "# The default of 1,000 iterations gives fine results, but I'm training for longer just to eke\n",
    "# out some marginal improvements. NB: This takes almost an hour!\n",
    "tsne = TSNE(n_iter=15000, metric=\"euclidean\")\n",
    "\n",
    "embs = tsne.fit_transform(embeddings_array)\n",
    "# Add to dataframe for convenience\n",
    "df['x'] = embs[:, 0]\n",
    "df['y'] = embs[:, 1]"
   ]
  },
  {
   "cell_type": "code",
   "execution_count": null,
   "id": "533da965-0e7c-4cf0-8bf1-78abb249e571",
   "metadata": {},
   "outputs": [],
   "source": [
    "import matplotlib.pyplot as plt\n",
    "FS = (10, 8)\n",
    "fig, ax = plt.subplots(figsize=FS)\n",
    "# Make points translucent so we can visually identify regions with a high density of overlapping points\n",
    "ax.scatter(df.x, df.y, alpha=.1);"
   ]
  },
  {
   "cell_type": "code",
   "execution_count": null,
   "id": "ecd2b944-da27-4574-8830-503a35ebb0ba",
   "metadata": {},
   "outputs": [],
   "source": []
  }
 ],
 "metadata": {
  "kernelspec": {
   "display_name": "Python 3 (ipykernel)",
   "language": "python",
   "name": "python3"
  },
  "language_info": {
   "codemirror_mode": {
    "name": "ipython",
    "version": 3
   },
   "file_extension": ".py",
   "mimetype": "text/x-python",
   "name": "python",
   "nbconvert_exporter": "python",
   "pygments_lexer": "ipython3",
   "version": "3.10.14"
  }
 },
 "nbformat": 4,
 "nbformat_minor": 5
}

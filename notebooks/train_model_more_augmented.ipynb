{
 "cells": [
  {
   "cell_type": "code",
   "execution_count": 1,
   "metadata": {},
   "outputs": [
    {
     "name": "stderr",
     "output_type": "stream",
     "text": [
      "C:\\Users\\adame\\AppData\\Local\\Temp\\ipykernel_13404\\3155293630.py:3: DeprecationWarning: \n",
      "Pyarrow will become a required dependency of pandas in the next major release of pandas (pandas 3.0),\n",
      "(to allow more performant data types, such as the Arrow string type, and better interoperability with other libraries)\n",
      "but was not found to be installed on your system.\n",
      "If this would cause problems for you,\n",
      "please provide us feedback at https://github.com/pandas-dev/pandas/issues/54466\n",
      "        \n",
      "  import pandas as pd\n"
     ]
    }
   ],
   "source": [
    "import time\n",
    "import sys\n",
    "import pandas as pd\n",
    "import numpy as np\n",
    "import torch\n",
    "import torch.nn as nn\n",
    "import torch.optim as optim\n",
    "from torch.utils.data import DataLoader\n",
    "from pytorch_lightning import LightningModule, Trainer\n",
    "from dataset import ImageDataset\n",
    "import torch.nn as nn\n",
    "from torch.utils.data import DataLoader\n",
    "from torchmetrics import Precision, Recall\n",
    "from torchvision.models import resnet18\n",
    "import warnings\n",
    "from collections import defaultdict\n",
    "from pytorch_lightning.callbacks import ModelCheckpoint, LearningRateMonitor, EarlyStopping\n",
    "import cv2\n",
    "from pytorch_lightning import Callback\n",
    "from efficientnet_pytorch import EfficientNet\n",
    "\n",
    "\n",
    "warnings.filterwarnings('ignore')\n",
    "torch.set_float32_matmul_precision('medium')\n",
    "\n",
    "from albumentations import (\n",
    "    Compose,\n",
    "    Resize,\n",
    "    OneOf,\n",
    "    RandomBrightness,\n",
    "    RandomContrast,\n",
    "    MotionBlur,\n",
    "    MedianBlur,\n",
    "    GaussianBlur,\n",
    "    VerticalFlip,\n",
    "    HorizontalFlip,\n",
    "    ShiftScaleRotate,\n",
    "    Normalize,\n",
    ")\n",
    "transform = Compose(\n",
    "    [\n",
    "        OneOf([RandomBrightness(limit=0.1, p=1), RandomContrast(limit=0.1, p=1)]),\n",
    "        OneOf([MotionBlur(blur_limit=3), MedianBlur(blur_limit=3), GaussianBlur(blur_limit=3),], p=0.5,),\n",
    "        VerticalFlip(p=0.5),\n",
    "        HorizontalFlip(p=0.5),]\n",
    ")\n",
    "\n",
    "class MyModel(LightningModule):\n",
    "    def __init__(self, model, learning_rate=0.001, weight_decay=0.00005):\n",
    "        super(MyModel, self).__init__()\n",
    "        self.model = model\n",
    "        self.learning_rate = learning_rate\n",
    "        self.weight_decay = weight_decay\n",
    "        self.criterion = nn.CrossEntropyLoss()\n",
    "        self.metric_precision = Precision(task=\"multiclass\", num_classes=4, average=None).to('cuda')\n",
    "        self.metric_recall = Recall(task=\"multiclass\", num_classes=4, average=None).to('cuda')\n",
    "        self.train_loss = []\n",
    "        self.valid_loss = []\n",
    "        self.save_hyperparameters()\n",
    "\n",
    "\n",
    "    def forward(self, x):\n",
    "        return self.model(x)\n",
    "\n",
    "    def training_step(self, batch, batch_idx):\n",
    "        inputs, labels = batch\n",
    "        outputs = self.model(inputs)\n",
    "        loss = self.criterion(outputs, labels)\n",
    "        _, preds = torch.max(outputs, 1)\n",
    "        _, labels = torch.max(labels, 1)\n",
    "        self.metric_precision(preds, labels)\n",
    "        self.metric_recall(preds, labels)\n",
    "        self.train_loss.append(loss.item())\n",
    "        self.log(\"train_loss\", loss, prog_bar=True, on_epoch=True, on_step=False)\n",
    "\n",
    "        return loss\n",
    "\n",
    "    def validation_step(self, batch):\n",
    "        inputs, labels = batch\n",
    "        outputs = self.model(inputs)\n",
    "        loss = self.criterion(outputs, labels)\n",
    "        _, preds = torch.max(outputs, 1)\n",
    "        _, labels = torch.max(labels, 1)\n",
    "        self.metric_precision(preds, labels)\n",
    "        self.metric_recall(preds, labels)\n",
    "        self.valid_loss.append(loss.item())\n",
    "        self.log('val_loss', loss, prog_bar=True, on_epoch=True, on_step=False)\n",
    "\n",
    "        return loss\n",
    "\n",
    "    def configure_optimizers(self):\n",
    "        optimizer = torch.optim.AdamW(self.parameters(), lr=self.learning_rate, weight_decay=self.weight_decay)\n",
    "        scheduler = torch.optim.lr_scheduler.ReduceLROnPlateau(optimizer, mode=\"min\", factor=0.1, patience=3, min_lr=5e-6, verbose=True)\n",
    "        return {\"optimizer\": optimizer, \"lr_scheduler\": scheduler, \"monitor\": \"val_loss\"}\n",
    "\n",
    "    def on_train_epoch_end(self):\n",
    "        avg_loss = np.mean(self.train_loss)\n",
    "        self.train_loss.clear()\n",
    "        precision = self.metric_precision.compute()\n",
    "        recall = self.metric_recall.compute()\n",
    "        self.log('train_loss', avg_loss)\n",
    "\n",
    "\n",
    "        self.log('train_precision 0', precision[0])\n",
    "        self.log('train_recall 0 ', recall[0])\n",
    "\n",
    "        self.log('train_precision 1', precision[1])\n",
    "        self.log('train_recall 1' , recall[1])\n",
    "\n",
    "\n",
    "        self.log('train_precision 2', precision[2])\n",
    "        self.log('train_recall 2', recall[2])\n",
    "\n",
    "        self.log('train_precision 3', precision[3])\n",
    "        self.log('train_recall 3', recall[3])\n",
    "\n",
    "\n",
    "\n",
    "        print(f'eloss: {avg_loss}')\n",
    "    \n",
    "    def on_validation_epoch_end(self):\n",
    "        avg_loss = np.mean(self.valid_loss)\n",
    "        self.valid_loss.clear()\n",
    "        precision = self.metric_precision.compute()\n",
    "        recall = self.metric_recall.compute()\n",
    "        self.log('val_loss', avg_loss)\n",
    "\n",
    "\n",
    "        self.log('val_precision 0', float(precision[0]))\n",
    "        self.log('val_recall 0 ', recall[0])\n",
    "\n",
    "        self.log('val_precision 1', precision[1])\n",
    "        self.log('val_recall 1' , recall[1])\n",
    "\n",
    "\n",
    "        self.log('val_precision 2', precision[2])\n",
    "        self.log('val_recall 2', recall[2])\n",
    "\n",
    "        self.log('valprecision 3', precision[3])\n",
    "        self.log('tval_recall 3', recall[3])\n",
    "\n",
    "\n",
    "\n",
    "\n",
    "        print(f'val_loss: {avg_loss} ')\n",
    "    \n",
    "torch.cuda.empty_cache()\n",
    "\n",
    "\n",
    "batch_size = 64\n",
    "trainset = ImageDataset(data_path='train_data', transform=transform)\n",
    "\n",
    "trainloader = DataLoader(trainset, batch_size=batch_size,\n",
    "                         shuffle=True, num_workers=5)\n",
    "\n",
    "\n",
    "testset =ImageDataset(data_path='validation_data')\n",
    "\n",
    "testloader = DataLoader(testset, batch_size=batch_size,\n",
    "                        shuffle=False, num_workers=5)\n",
    "\n",
    "learning_rate = 0.001\n",
    "weight_decay = 0.00001\n",
    "\n",
    "\n",
    "\n",
    "\n",
    "model = EfficientNet.from_name('efficientnet-b0', num_classes=4, in_channels=4)\n"
   ]
  },
  {
   "cell_type": "code",
   "execution_count": 2,
   "metadata": {},
   "outputs": [
    {
     "name": "stderr",
     "output_type": "stream",
     "text": [
      "GPU available: True (cuda), used: True\n",
      "TPU available: False, using: 0 TPU cores\n",
      "IPU available: False, using: 0 IPUs\n",
      "HPU available: False, using: 0 HPUs\n",
      "LOCAL_RANK: 0 - CUDA_VISIBLE_DEVICES: [0]\n",
      "\n",
      "  | Name             | Type             | Params\n",
      "------------------------------------------------------\n",
      "0 | model            | EfficientNet     | 4.0 M \n",
      "1 | criterion        | CrossEntropyLoss | 0     \n",
      "2 | metric_precision | Precision        | 0     \n",
      "3 | metric_recall    | Recall           | 0     \n",
      "------------------------------------------------------\n",
      "4.0 M     Trainable params\n",
      "0         Non-trainable params\n",
      "4.0 M     Total params\n",
      "16.052    Total estimated model params size (MB)\n"
     ]
    },
    {
     "data": {
      "application/vnd.jupyter.widget-view+json": {
       "model_id": "709413129bd84c48aa093dd45d2840a1",
       "version_major": 2,
       "version_minor": 0
      },
      "text/plain": [
       "Sanity Checking: |          | 0/? [00:00<?, ?it/s]"
      ]
     },
     "metadata": {},
     "output_type": "display_data"
    },
    {
     "name": "stdout",
     "output_type": "stream",
     "text": [
      "val_loss: 1.3874555826187134 \n"
     ]
    },
    {
     "data": {
      "application/vnd.jupyter.widget-view+json": {
       "model_id": "f6e69b2901814e4e84d80f3eb4f9e9da",
       "version_major": 2,
       "version_minor": 0
      },
      "text/plain": [
       "Training: |          | 0/? [00:00<?, ?it/s]"
      ]
     },
     "metadata": {},
     "output_type": "display_data"
    }
   ],
   "source": [
    "class MetricsCallback(Callback):\n",
    "    def __init__(self):\n",
    "        super().__init__()\n",
    "        self.metrics = []\n",
    "        \n",
    "    def on_train_epoch_end(self, trainer, pl_module):\n",
    "        self.metrics.append(trainer.logged_metrics.copy())\n",
    "\n",
    "metrics_callback = MetricsCallback()\n",
    "\n",
    "checkpoint = ModelCheckpoint(monitor=\"val_loss\", mode=\"min\")\n",
    "lr_monitor = LearningRateMonitor(\"epoch\")\n",
    "early_stop = EarlyStopping(monitor=\"val_loss\", mode=\"min\", patience=10)\n",
    "\n",
    "\n",
    "lightning_model = MyModel(model, learning_rate, weight_decay)\n",
    "trainer = Trainer(max_epochs=100, log_every_n_steps=1, accelerator='cuda', callbacks=[metrics_callback, lr_monitor, checkpoint, early_stop])\n",
    "trainer.fit(lightning_model, trainloader, testloader)"
   ]
  },
  {
   "cell_type": "markdown",
   "metadata": {},
   "source": [
    "# Model loading - (this is the best model)"
   ]
  },
  {
   "cell_type": "code",
   "execution_count": null,
   "metadata": {},
   "outputs": [
    {
     "name": "stdout",
     "output_type": "stream",
     "text": [
      "c:\\Users\\adame\\Desktop\\cells_master_thesis\\lightning_logs\\version_5\\checkpoints\\epoch=29-step=100710.ckpt\n"
     ]
    }
   ],
   "source": [
    "ckpt_path = checkpoint.best_model_path\n",
    "model = MyModel.load_from_checkpoint(ckpt_path) \n",
    "print(ckpt_path)"
   ]
  },
  {
   "cell_type": "code",
   "execution_count": null,
   "metadata": {},
   "outputs": [
    {
     "data": {
      "image/png": "[encoded data removed]",
      "text/plain": [
       "<Figure size 640x480 with 1 Axes>"
      ]
     },
     "metadata": {},
     "output_type": "display_data"
    }
   ],
   "source": [
    "metrics_dict = defaultdict(list)\n",
    "for metrics in metrics_callback.metrics:\n",
    "    for key, value in metrics.items():\n",
    "        metrics_dict[key].append(value.item()) \n",
    "\n",
    "import matplotlib.pyplot as plt\n",
    "# Plot loss\n",
    "plt.plot(metrics_dict['train_loss'], label='Training Loss')\n",
    "plt.plot(metrics_dict['val_loss'], label='Validation Loss')\n",
    "plt.title('Loss over Epochs')\n",
    "plt.xlabel('Epochs')\n",
    "plt.ylabel('Loss')\n",
    "plt.legend()\n",
    "\n",
    "# Adjust layout\n",
    "plt.tight_layout()\n",
    "plt.show()"
   ]
  },
  {
   "cell_type": "code",
   "execution_count": null,
   "metadata": {},
   "outputs": [
    {
     "name": "stdout",
     "output_type": "stream",
     "text": [
      "[1, 1, 3, 0, 1, 1, 1, 0, 3, 1, 3, 3, 3, 3, 0, 3, 3, 1, 1, 3, 3, 1, 1, 1, 1, 1, 1, 1, 3, 3, 3, 3, 0, 1, 0, 3, 3, 0, 1, 3, 0, 0, 3, 1, 3, 1, 1, 3, 0, 1, 1, 0, 0, 3, 3, 2, 0, 1, 0, 3, 3, 3, 3, 0, 1, 3, 0, 1, 0, 0, 1, 1, 1, 1, 3, 0, 0, 0, 0, 0, 1, 1, 3, 1, 1, 3, 1, 3, 3, 1, 0, 1, 0, 0, 3, 3, 1, 1, 3, 0, 1, 3, 1, 3, 0, 1, 1, 3, 0, 3, 3, 0, 3, 3, 1, 3, 1, 0, 1, 3, 3, 3, 3, 0, 3, 3, 1, 3, 3, 3, 0, 0, 3, 0, 3, 0, 3, 0, 1, 3, 2, 2, 0, 1, 1, 0, 1, 3, 3, 0, 1, 1, 0, 0, 0, 3, 0, 1, 1, 3, 1, 3, 1, 1, 3, 0, 1, 3, 3, 0, 0, 0, 3, 1, 0, 1, 3, 3, 3, 1, 1, 3, 3, 3, 1, 1, 3, 3, 1, 0, 1, 1, 1, 3, 1, 0, 3, 3, 3, 3, 3, 3, 0, 2, 1, 3, 3, 3, 3, 3, 0, 3, 3, 0, 1, 3, 1, 3, 1, 1, 1, 3, 1, 3, 0, 1, 3, 1, 3, 3, 0, 3, 0, 3, 3, 3, 1, 0, 3, 0, 3, 1, 3, 3, 0, 0, 1, 1, 0, 0, 0, 0, 0, 0, 1, 3, 1, 3, 1, 2, 3, 0, 3, 3, 0, 3, 0, 3, 1, 0, 1, 1, 3, 3, 1, 3, 3, 3, 3, 0, 3, 0, 0, 3, 0, 3, 3, 0, 0, 1, 3, 1, 3, 0, 0, 0, 3, 0, 1, 1, 1, 0, 3, 3, 1, 3, 2, 0, 1, 3, 1, 1, 3, 0, 3, 1, 3, 0, 3, 0, 3, 1, 1, 3, 0, 1, 3, 0, 0, 3, 1, 1, 1, 0, 1, 3, 3, 0, 0, 3, 0, 3, 1, 3, 1, 0, 1, 0, 3, 0, 1, 0, 3, 3, 3, 0, 3, 3, 0, 1, 3, 1, 0, 0, 3, 1, 3, 3, 3, 1, 0, 3, 3, 0, 3, 3, 3, 3, 0, 0, 3, 3, 3, 1, 1, 0, 1, 3, 3, 3, 0, 1, 1, 1, 1, 3, 1, 1, 3, 3, 3, 0, 1, 1, 1, 3, 3, 0, 0, 0, 0, 0, 0, 0, 3, 0, 3, 2, 0, 3, 3, 0, 0, 0, 1, 3, 0, 0, 0, 1, 0, 1, 3, 0, 0, 1, 0, 0, 0, 3, 0, 0, 1, 1, 3, 3, 0, 1, 0, 0, 1, 3, 0, 1, 3, 3, 3, 3, 0, 0, 3, 3, 0, 3, 3, 1, 3, 0, 3, 2, 3, 1, 3, 1, 0, 3, 0, 0, 3, 0, 0, 2, 3, 0, 3, 1, 0, 1, 0, 1, 0, 3, 3, 3, 3, 1, 3, 1, 0, 1, 0, 1, 1, 3, 0, 3, 0, 2, 3, 0, 0, 1, 3, 0, 0, 1, 0, 0, 0, 0, 3, 3, 3, 0, 3, 0, 3, 0, 3, 2, 3, 3, 3, 3, 0, 0, 0, 1, 0, 3, 3, 0, 3, 3, 0, 3, 0, 0, 1, 3, 1, 0, 0, 3, 1, 3, 0, 0, 3, 0, 1, 1, 1, 1, 3, 1, 0, 3, 0, 0, 0, 0, 3, 0, 0, 3, 3, 0, 3, 0, 3, 1, 3, 3, 1, 0, 3, 0, 1, 3, 1, 3, 0, 0, 1, 0, 3, 3, 3, 1, 3, 0, 1, 3, 3, 1, 0, 0, 3, 0, 1, 0, 3, 3, 3, 3, 3, 0, 3, 0, 0, 1, 3, 1, 1, 3, 0, 0, 1, 0, 3, 0, 0, 3, 3, 3, 3, 3, 3, 1, 1, 3, 1, 0, 1, 1, 1, 3, 3, 3, 3, 3, 0, 3, 3, 3, 0, 2, 0, 0, 0, 1, 3, 0, 3, 0, 3, 1, 1, 1, 3, 3, 3, 3, 3, 3, 1, 0, 0, 1, 0, 0, 0, 1, 0, 0, 3, 0, 3, 1, 1, 0, 3, 0, 0, 1, 3, 0, 0, 3, 0, 3, 0, 3, 3, 1, 1, 0, 0, 0, 1, 3, 1, 1, 1, 3, 3, 1, 1, 3, 3, 0, 3, 0, 0, 1, 0, 1, 1, 1, 0, 3, 1, 1, 0, 0, 0, 0, 1, 1, 0, 3, 1, 3, 1, 0, 1, 0, 0, 3, 0, 3, 0, 1, 0, 3, 0, 0, 1, 1, 1, 3, 1, 0, 3, 0, 1, 3, 3, 3, 0, 0, 0, 3, 3, 1, 0, 3, 3, 3, 1, 0, 0, 0, 0, 1, 0, 1, 3, 3, 0, 1, 1, 0, 1, 0, 1, 0, 0, 0, 1, 1, 1, 0, 3, 1, 3, 3, 2, 3, 3, 3, 0, 3, 2, 0, 3, 1, 1, 1, 1, 0, 1, 0, 3, 3, 3, 3, 0, 1, 3, 1, 3, 3, 1, 3, 0, 1, 0, 3, 0, 1, 1, 0, 1, 1, 0, 0, 1, 3, 0, 3, 3, 0, 3, 3, 1, 3, 0, 1, 3, 1, 3, 1, 3, 0, 0, 3, 3, 0, 0, 1, 2, 0, 0, 0, 1, 0, 1, 0, 1, 1, 3, 3, 3, 0, 1, 3, 1, 0, 1, 3, 1, 0, 1, 0, 0, 1, 3, 3, 3, 0, 3, 1, 0, 0, 0, 0, 0, 1, 3, 3, 0, 1, 3, 0, 1, 1, 3, 0, 3, 0, 3, 0, 3, 3, 0, 3, 0, 3, 3, 1, 0, 0, 3, 0, 0, 0, 0, 0, 0, 1, 3, 0, 0, 3, 3, 1, 0, 0, 1, 3, 0, 1, 0, 3, 3, 1, 0, 0, 0, 0, 3, 0, 3, 1, 1, 1, 1, 0, 1, 1, 1, 0, 3, 1, 0, 3, 1, 1, 1, 3, 1, 0, 0, 3, 3, 1, 3, 1, 3, 1, 1, 1, 0, 0, 3, 0, 3, 1, 2, 1, 1, 0, 1, 0, 1, 1, 3, 0, 0, 3, 3, 0, 0, 1, 0, 0, 3, 3, 1, 2, 3, 1, 0, 0, 1, 0, 3, 0, 0, 3, 3, 0, 1, 1, 1, 1, 3, 3, 0, 3, 3, 3, 1, 1, 3, 1, 0, 0, 3, 2, 0, 0, 3, 3, 0, 1, 1, 0, 3, 0, 1, 1, 1, 0, 1, 1, 0, 1, 3, 1, 0, 0, 1, 0, 1, 0, 1, 3, 0, 3, 1, 1, 0, 0, 0, 0, 1, 1, 0, 3, 3, 3, 1, 3, 3, 3, 1, 1, 0, 1, 0, 1, 0, 1, 1, 1, 1, 1, 1, 0, 0, 0, 3, 3, 3, 3, 3, 3, 1, 0, 1, 3, 0, 1, 1, 0, 3, 1, 0, 3, 1, 1, 1, 0, 0, 1, 1, 0, 0, 0, 1, 0, 0, 1, 1, 0, 1, 0, 1, 0, 0, 0, 0, 0, 0, 0, 3, 1, 1, 1, 1, 3, 1, 0, 1, 0, 0, 1, 3, 0, 0, 0, 3, 0, 3, 1, 3, 1, 1, 0, 0, 1, 3, 2, 1, 0, 1, 3, 3, 3, 3, 0, 3, 3, 3, 3, 3, 1, 3, 3, 1, 0, 3, 0, 0, 3, 3, 1, 1, 3, 0, 0, 3, 0, 3, 3, 1, 1, 0, 1, 0, 0, 3, 1, 3, 0, 0, 1, 3, 0, 3, 1, 1, 1, 1, 3, 2, 1, 3, 0, 1, 0, 1, 0, 0, 3, 3, 3, 3, 0, 0, 0, 3, 3, 3, 3, 0, 0, 3, 0, 1, 1, 0, 3, 3, 0, 0, 1, 3, 0, 3, 0, 3, 1, 3, 0, 1, 3, 0, 1, 1, 0, 3, 0, 3, 3, 0, 0, 1, 3, 3, 3, 1, 0, 3, 3, 3, 1, 0, 1, 1, 1, 1, 3, 0, 3, 1, 3, 3, 3, 2, 3, 3, 1, 3, 0, 1, 0, 1, 0, 1, 1, 0, 1, 0, 2, 3, 3, 1, 1, 3, 0, 3, 1, 1, 3, 3, 0, 3, 3, 1, 3, 3, 0, 1, 0, 3, 0, 3, 1, 3, 3, 3, 3, 3, 0, 1, 0, 3, 0, 3, 0, 3, 1, 3, 0, 1, 0, 3, 3, 3, 0, 1, 0, 3, 1, 0, 3, 1, 0, 0, 3, 3, 3, 3, 3, 1, 1, 1, 0, 3, 0, 1, 0, 0, 0, 3, 1, 0, 1, 3, 3, 1, 0, 3, 0, 0, 0, 3, 1, 2, 1, 3, 1, 3, 0, 0, 1, 3, 3, 3, 3, 0, 0, 3, 0, 1, 1, 0, 0, 0, 3, 1, 3, 1, 0, 3, 1, 0, 1, 3, 1, 1, 0, 0, 3, 3, 0, 1, 0, 0, 0, 1, 3, 3, 3, 1, 3, 1, 3, 0, 0, 3, 0, 1, 1, 3, 0, 0, 3, 3, 0, 3, 3, 1, 0, 1, 0, 0, 0, 3, 3, 1, 3, 0, 0, 1, 2, 1, 0, 0, 1, 3, 3, 1, 0, 0, 3, 3, 0, 0, 3, 1, 3, 0, 3, 1, 1, 0, 1, 0, 3, 3, 0, 3, 3, 3, 0, 0, 0, 1, 1, 0, 3, 1, 1, 0, 3, 1, 1, 3, 1, 3, 0, 1, 0, 1, 1, 0, 1, 0, 3, 1, 2, 3, 3, 1, 1, 3, 1, 3, 0, 3, 1, 0, 0, 1, 0, 3, 3, 1, 0, 1, 1, 0, 1, 0, 1, 1, 1, 0, 3, 0, 3, 1, 3, 3, 3, 0, 1, 2, 3, 1, 3, 0, 0, 0, 3, 1, 0, 2, 0, 0, 1, 1, 1, 1, 3, 1, 1, 0, 1, 0, 0, 1, 1, 3, 0, 3, 1, 3, 1, 3, 0, 1, 3, 0, 0, 1, 3, 3, 1, 3, 3, 1, 1, 0, 1, 3, 2, 3, 0, 3, 0, 0, 0, 0, 3, 0, 1, 0, 1, 3, 0, 3, 1, 0, 0, 1, 3, 0, 0, 0, 0, 3, 3, 3, 0, 1, 3, 0, 3, 1, 3, 3, 1, 3, 3, 3, 1, 0, 3, 0, 1, 1, 1, 0, 0, 3, 0, 3, 3, 3, 3, 3, 1, 0, 1, 1, 0, 0, 1, 3, 3, 1, 1, 0, 0, 3, 3, 3, 3, 0, 3, 1, 0, 1, 0, 0, 0, 0, 3, 1, 0, 0, 3, 0, 0, 2, 0, 1, 1, 0, 0, 0, 3, 3, 1, 0, 3, 3, 3, 3, 0, 1, 3, 0, 3, 3, 1, 0, 3, 1, 0, 1, 0, 1, 0, 1, 3, 2, 1, 0, 1, 3, 0, 0, 0, 1, 3, 0, 1, 1, 3, 0, 0, 0, 1, 3, 2, 0, 1, 3, 3, 3, 0, 0, 2, 0, 3, 1, 0, 1, 1, 0, 0, 3, 0, 1, 0, 1, 1, 1, 0, 3, 3, 1, 1, 0, 0, 1, 0, 3, 0, 0, 0, 0, 0, 3, 1, 3, 0, 3, 1, 0, 1, 0, 0, 3, 1, 1, 1, 0, 0, 3, 3, 1, 3, 1, 1, 1, 1, 3, 3, 1, 3, 1, 3, 1, 3, 1, 3, 3, 1, 3, 0, 0, 0, 0, 3, 0, 3, 1, 3, 1, 3, 3, 0, 0, 0, 0, 3, 0, 0, 3, 3, 0, 1, 1, 1, 1, 0, 3, 1, 1, 1, 3, 3, 1, 3, 0, 0, 1, 3, 1, 3, 1, 1, 3, 0, 3, 3, 3, 3, 3, 0, 3, 0, 1, 3, 3, 1, 0, 1, 3, 0, 0, 3, 3, 1, 3, 0, 3, 3, 3, 1, 0, 1, 1, 1, 1, 1, 1, 1, 1, 1, 1, 3, 3, 1, 3, 0, 1, 3, 0, 0, 3, 1, 0, 3, 0, 1, 3, 0, 1, 2, 0, 1, 1, 0, 0, 3, 1, 1, 0, 0, 0, 3, 1, 0, 0, 1, 0, 0, 0, 0, 1, 3, 3, 2, 1, 3, 3, 1, 0, 3, 3, 3, 1, 1, 0, 0, 0, 3, 3, 3, 3, 3, 3, 0, 0, 3, 0, 0, 0, 3, 0, 1, 1, 0, 0, 0, 1, 3, 0, 0, 0, 1, 0, 3, 0, 0, 3, 0, 0, 1, 1, 0, 1, 3, 0, 3, 3, 3, 3, 0, 0, 0, 1, 0, 3, 3, 3, 3, 0, 1, 1, 3, 1, 3, 1, 0, 1, 0, 3, 1, 3, 0, 0, 3, 3, 0, 3, 1, 0, 3, 3, 0, 3, 3, 3, 0, 3, 2, 0, 0, 3, 1, 3, 0, 0, 1, 3, 3, 0, 2, 1, 3, 1, 3, 0, 0, 0, 0, 3, 3, 0, 1, 1, 3, 0, 3, 1, 3, 0, 1, 0, 1, 3, 0, 0, 1, 0, 1, 3, 1, 1, 1, 1, 0, 0, 0, 1, 3, 3, 0, 3, 0, 1, 1, 1, 0, 3, 3, 3, 3, 3, 3, 3, 0, 0, 0, 3, 0, 1, 3, 0, 0, 0, 3, 3, 2, 3, 1, 3, 1, 1, 0, 1, 0, 3, 1, 1, 1, 0, 1, 2, 3, 3, 3, 3, 3, 0, 3, 3, 0, 0, 0, 1, 3, 1, 0, 3, 0, 1, 1, 0, 1, 3, 0, 0, 0, 3, 3, 1, 3, 1, 1, 2, 3, 0, 3, 3, 3, 0, 1, 0, 1, 0, 1, 0, 3, 3, 3, 1, 3, 0, 1, 3, 3, 3, 3, 3, 0, 1, 0, 3, 0, 3, 3, 0, 3, 3, 1, 1, 0, 3, 3, 3, 0, 1, 3, 3, 3, 0, 1, 1, 1, 3, 0, 0, 0, 3, 0, 1, 3, 3, 0, 0, 1, 1, 3, 0, 0, 3, 0, 3, 0, 0, 0, 0, 0, 1, 1, 3, 0, 1, 3, 2, 1, 3, 0, 3, 1, 1, 0, 3, 0, 1, 1, 0, 0, 2, 3, 3, 1, 0, 0, 1, 0, 1, 1, 0, 0, 3, 0, 3, 1, 3, 0, 1, 3, 3, 3, 1, 2, 3, 3, 1, 0, 1, 1, 3, 3, 1, 0, 3, 1, 0, 0, 1, 0, 3, 1, 1, 0, 1, 0, 0, 0, 0, 0, 1, 0, 1, 1, 0, 0, 1, 0, 3, 1, 3, 0, 3, 1, 3, 3, 3, 0, 3, 0, 3, 1, 0, 0, 1, 0, 3, 1, 3, 3, 3, 1, 0, 0, 1, 0, 3, 1, 1, 1, 3, 3, 3, 1, 1, 0, 0, 0, 0, 0, 1, 3, 0, 1, 1, 1, 2, 3, 3, 1, 1, 1, 0, 0, 1, 3, 0, 1, 3, 3, 3, 3, 3, 1, 3, 3, 3, 1, 1, 1, 1, 3, 3, 0, 1, 0, 3, 3, 0, 1, 3, 3, 0, 0, 1, 0, 1, 3, 0, 0, 3, 0, 3, 3, 0, 3, 0, 2, 2, 3, 3, 0, 1, 2, 0, 1, 1, 1, 3, 3, 1, 0, 3, 0, 0, 0, 0, 1, 3, 0, 1, 1, 3, 1, 0, 1, 0, 3, 1, 0, 1, 0, 3, 3, 3, 3, 2, 3, 1, 0, 0, 1, 0, 1, 0, 3, 0, 0, 0, 3, 0, 3, 1, 3, 1, 2, 0, 3, 0, 0, 3, 1, 0, 0, 1, 0, 3, 0, 0, 3, 1, 3, 1, 3, 0, 0, 1, 0, 2, 3, 3, 0, 3, 0, 2, 3, 3, 1, 3, 1, 1, 1, 3, 3, 3, 2, 0, 1, 1, 3, 3, 3, 1, 1, 0, 1, 1, 3, 0, 1, 1, 1, 3, 1, 0, 3, 1, 1, 3, 3, 3, 1, 1, 0, 1, 0, 3, 0, 1, 0, 1, 3, 0, 1, 3, 1, 1, 0, 3, 3, 0, 0, 0, 1, 3, 0, 0, 3, 3, 0, 0, 0, 1, 1, 1, 1, 0, 3, 0, 2, 3, 0, 1, 3, 3, 3, 1, 3, 0, 3, 3, 3, 1, 0, 3, 0, 1, 0, 0, 1, 1, 0, 3, 1, 0, 3, 0, 3, 1, 0, 0, 1, 1, 1, 1, 3, 3, 3, 1, 0, 3, 3, 3, 3, 1, 3, 3, 1, 0, 1, 3, 0, 1, 0, 1, 1, 1, 1, 3, 3, 3, 0, 3, 1, 3, 1, 0, 0, 3, 3, 0, 3, 1, 3, 3, 0, 0, 1, 3, 1, 1, 0, 3, 0, 2, 0, 0, 0, 1, 1, 0, 3, 3, 0, 1, 0, 1, 0, 3, 1, 3, 1, 3, 3, 1, 3, 1, 3, 3, 3, 0, 3, 3, 3, 0, 0, 3, 0, 3, 0, 0, 0, 3, 1, 0, 1, 0, 3, 1, 3, 3, 0, 0, 0, 1, 0, 3, 3, 0, 1, 3, 1, 3, 3, 0, 0, 0, 1, 1, 3, 0, 1, 3, 3, 1, 0, 0, 1, 1, 1, 3, 3, 1, 3, 3, 2, 0, 0, 1, 1, 1, 3, 1, 3, 1, 1, 0, 3, 0, 0, 0, 1, 1, 3, 3, 3, 0, 0, 0, 0, 0, 0, 0, 1, 0, 0, 3, 0, 0, 3, 1, 0, 1, 1, 1, 3, 1, 0, 0, 3, 3, 3, 3, 3, 1, 1, 0, 0, 3, 1, 3, 0, 0, 3, 1, 0, 0, 0, 1, 3, 3, 0, 3, 0, 0, 1, 3, 1, 1, 1, 0, 3, 1, 0, 3, 3, 0, 3, 0, 0, 0, 1, 0, 1, 0, 3, 1, 1, 0, 2, 0, 3, 0, 1, 0, 0, 0, 3, 3, 1, 3, 1, 0, 3, 3, 1, 2, 0, 0, 3, 1, 0, 3, 0, 3, 0, 1, 3, 3, 1, 0, 0, 0, 3, 0, 0, 2, 1, 3, 1, 0, 3, 3, 3, 3, 1, 2, 1, 3, 3, 2, 0, 3, 3, 0, 3, 3, 1, 1, 0, 0, 3, 0, 3, 3, 3, 3, 3, 1, 3, 0, 0, 1, 0, 3, 3, 0, 1, 3, 3, 3, 1, 1, 1, 0, 3, 2, 1, 0, 3, 1, 0, 1, 0, 3, 3, 0, 1, 3, 0, 1, 1, 1, 3, 3, 3, 0, 0, 2, 3, 3, 3, 1, 3, 1, 3, 3, 2, 3, 3, 3, 3, 0, 0, 0, 3, 1, 3, 0, 0, 1, 1, 0, 0, 3, 3, 2, 0, 1, 0, 1, 1, 3, 3, 2, 0, 3, 3, 2, 3, 3, 1, 0, 3, 0, 1, 3, 3, 3, 3, 1, 3, 0, 1, 3, 0, 1, 0, 0, 3, 3, 1, 0, 0, 1, 0, 1, 3, 1, 3, 1, 1, 0, 3, 1, 0, 0, 0, 0, 3, 0, 0, 3, 2, 1, 3, 3, 3, 3, 3, 3, 0, 0, 1, 0, 0, 0, 1, 0, 0, 0, 1, 0, 0, 0, 0, 3, 3, 0, 1, 0, 3, 0, 2, 0, 0, 1, 1, 1, 0, 3, 0, 0, 0, 0, 0]\n",
      "[1, 1, 3, 0, 1, 1, 1, 0, 3, 1, 1, 3, 3, 3, 0, 3, 3, 3, 1, 3, 1, 0, 3, 1, 1, 1, 1, 1, 3, 3, 0, 3, 0, 1, 0, 1, 0, 0, 3, 1, 0, 1, 3, 1, 1, 1, 1, 3, 0, 3, 1, 1, 3, 3, 3, 2, 0, 1, 0, 1, 3, 3, 3, 1, 1, 1, 1, 1, 1, 0, 1, 3, 1, 1, 3, 0, 0, 0, 0, 3, 1, 1, 1, 3, 2, 3, 1, 3, 3, 1, 0, 1, 0, 0, 3, 3, 1, 3, 1, 1, 1, 3, 1, 3, 3, 3, 1, 1, 0, 3, 3, 0, 3, 1, 1, 3, 1, 3, 0, 3, 3, 3, 3, 0, 1, 2, 1, 1, 3, 3, 0, 0, 3, 0, 1, 0, 3, 0, 1, 3, 3, 3, 0, 1, 1, 0, 1, 3, 3, 1, 1, 1, 0, 2, 0, 1, 0, 1, 0, 3, 0, 3, 0, 3, 0, 0, 0, 3, 3, 0, 0, 0, 1, 1, 0, 1, 3, 3, 3, 1, 1, 3, 3, 3, 0, 1, 3, 3, 1, 0, 1, 1, 3, 3, 1, 0, 3, 3, 1, 3, 3, 3, 0, 3, 1, 0, 3, 3, 1, 3, 0, 1, 1, 0, 3, 3, 1, 3, 3, 1, 1, 3, 1, 3, 0, 3, 3, 1, 3, 3, 0, 1, 1, 3, 3, 3, 3, 0, 3, 0, 3, 1, 1, 3, 0, 1, 3, 1, 0, 0, 0, 0, 0, 0, 1, 3, 1, 3, 3, 2, 3, 0, 1, 1, 0, 3, 0, 3, 0, 0, 1, 1, 3, 1, 1, 3, 1, 1, 3, 0, 3, 0, 0, 3, 1, 3, 3, 0, 1, 1, 1, 1, 3, 0, 3, 0, 3, 0, 1, 1, 1, 0, 3, 3, 1, 1, 2, 0, 1, 3, 3, 3, 3, 2, 3, 1, 1, 0, 3, 0, 3, 1, 1, 1, 0, 1, 3, 0, 0, 3, 3, 3, 0, 0, 1, 3, 1, 0, 0, 3, 0, 3, 1, 1, 1, 0, 3, 0, 1, 0, 1, 3, 3, 3, 3, 0, 3, 1, 0, 3, 3, 1, 0, 0, 3, 1, 1, 3, 3, 1, 1, 3, 1, 1, 3, 3, 1, 3, 0, 0, 1, 3, 3, 1, 1, 1, 1, 3, 3, 3, 0, 0, 1, 1, 1, 3, 1, 1, 1, 3, 3, 3, 1, 3, 1, 3, 1, 0, 0, 0, 3, 1, 0, 3, 3, 0, 3, 0, 0, 3, 3, 0, 0, 0, 1, 1, 0, 0, 0, 3, 0, 1, 3, 0, 0, 1, 0, 0, 1, 3, 1, 0, 1, 1, 1, 0, 0, 1, 2, 0, 1, 3, 0, 1, 3, 3, 3, 3, 0, 0, 3, 3, 1, 1, 1, 1, 0, 3, 1, 2, 3, 1, 3, 3, 0, 3, 0, 0, 3, 3, 0, 2, 3, 0, 3, 1, 0, 1, 0, 1, 0, 2, 0, 1, 3, 1, 3, 0, 0, 0, 0, 1, 3, 3, 0, 3, 0, 2, 1, 0, 0, 1, 0, 1, 0, 1, 0, 0, 0, 0, 0, 3, 3, 0, 1, 0, 3, 0, 3, 2, 3, 3, 3, 3, 1, 0, 0, 1, 0, 3, 3, 0, 2, 3, 0, 3, 1, 0, 0, 3, 1, 0, 0, 3, 1, 3, 0, 0, 3, 0, 0, 1, 1, 2, 3, 1, 0, 3, 0, 0, 0, 0, 1, 0, 0, 3, 3, 0, 3, 1, 3, 3, 3, 3, 1, 1, 3, 1, 1, 1, 1, 3, 0, 0, 1, 0, 3, 3, 3, 1, 0, 0, 1, 1, 3, 1, 0, 0, 0, 0, 1, 0, 3, 0, 3, 3, 3, 0, 0, 1, 1, 1, 3, 1, 0, 0, 0, 0, 3, 0, 3, 0, 0, 3, 3, 1, 3, 0, 3, 1, 1, 3, 3, 0, 0, 1, 1, 3, 3, 1, 3, 3, 0, 3, 1, 1, 0, 2, 0, 0, 0, 1, 3, 0, 3, 3, 3, 3, 1, 3, 3, 3, 3, 0, 3, 0, 1, 0, 0, 1, 0, 1, 0, 1, 0, 0, 3, 0, 3, 1, 1, 0, 1, 1, 0, 3, 3, 0, 0, 3, 0, 3, 0, 3, 3, 1, 0, 0, 0, 0, 1, 3, 1, 1, 1, 0, 3, 1, 1, 3, 1, 0, 1, 0, 0, 0, 1, 1, 1, 1, 2, 1, 1, 1, 0, 0, 0, 2, 1, 1, 0, 0, 1, 3, 1, 1, 1, 0, 0, 3, 0, 3, 1, 1, 0, 3, 0, 1, 1, 3, 1, 3, 0, 2, 0, 0, 1, 3, 3, 3, 0, 0, 0, 3, 3, 1, 3, 3, 3, 3, 1, 0, 0, 0, 0, 1, 0, 1, 3, 1, 0, 3, 1, 0, 1, 1, 1, 0, 0, 0, 1, 1, 1, 3, 3, 1, 3, 3, 2, 1, 0, 3, 0, 1, 2, 1, 3, 1, 1, 1, 0, 0, 1, 0, 3, 3, 1, 3, 1, 1, 3, 3, 3, 3, 1, 3, 1, 3, 0, 3, 0, 1, 1, 0, 1, 1, 0, 1, 2, 1, 0, 3, 1, 0, 3, 3, 1, 3, 0, 1, 3, 1, 3, 1, 3, 1, 0, 3, 3, 1, 0, 1, 2, 0, 0, 0, 1, 0, 1, 0, 2, 3, 3, 3, 3, 0, 1, 3, 1, 0, 1, 1, 1, 0, 3, 0, 0, 1, 3, 3, 1, 0, 1, 1, 0, 0, 0, 0, 0, 1, 3, 3, 0, 3, 3, 0, 1, 1, 0, 0, 3, 0, 3, 0, 3, 3, 0, 3, 3, 1, 3, 1, 0, 0, 3, 0, 0, 0, 1, 0, 0, 1, 3, 0, 0, 3, 3, 1, 0, 0, 0, 3, 0, 3, 0, 1, 3, 3, 0, 0, 0, 3, 3, 0, 3, 1, 1, 1, 1, 1, 1, 1, 0, 0, 3, 1, 0, 1, 1, 1, 1, 3, 1, 0, 0, 3, 3, 1, 3, 1, 3, 1, 1, 1, 0, 3, 1, 0, 3, 1, 0, 3, 0, 0, 1, 0, 1, 1, 3, 0, 0, 3, 3, 0, 0, 1, 1, 0, 3, 3, 1, 2, 3, 2, 0, 0, 1, 0, 3, 0, 0, 3, 3, 0, 1, 1, 1, 1, 1, 3, 1, 3, 3, 3, 1, 1, 3, 1, 2, 0, 1, 2, 0, 0, 3, 3, 0, 3, 1, 0, 3, 0, 1, 1, 1, 0, 1, 1, 0, 1, 3, 1, 0, 0, 3, 0, 1, 3, 0, 3, 0, 3, 1, 1, 0, 0, 0, 0, 2, 2, 1, 3, 3, 1, 0, 1, 3, 3, 1, 2, 0, 1, 2, 0, 0, 1, 1, 1, 0, 1, 1, 0, 0, 0, 3, 3, 1, 3, 3, 3, 3, 0, 0, 3, 0, 3, 3, 3, 3, 1, 0, 3, 1, 1, 1, 0, 1, 1, 1, 2, 0, 1, 1, 0, 0, 1, 1, 0, 1, 3, 1, 0, 0, 0, 0, 0, 3, 1, 3, 1, 1, 3, 1, 1, 1, 0, 0, 0, 1, 1, 3, 0, 0, 0, 1, 0, 3, 3, 3, 3, 1, 0, 0, 1, 1, 2, 1, 1, 1, 3, 3, 1, 2, 0, 3, 3, 3, 3, 1, 1, 1, 3, 1, 1, 3, 0, 0, 3, 3, 1, 1, 2, 1, 0, 3, 0, 3, 3, 1, 1, 0, 1, 0, 0, 3, 0, 3, 0, 0, 1, 1, 0, 3, 1, 1, 1, 1, 3, 0, 1, 3, 1, 1, 0, 1, 1, 0, 3, 3, 3, 3, 0, 1, 0, 3, 3, 3, 1, 0, 0, 0, 0, 1, 1, 0, 3, 3, 1, 0, 0, 3, 0, 3, 0, 3, 3, 3, 0, 1, 3, 0, 0, 1, 0, 3, 0, 3, 3, 0, 0, 1, 3, 3, 3, 1, 1, 0, 1, 3, 1, 0, 1, 1, 3, 1, 3, 0, 3, 1, 0, 1, 3, 2, 3, 3, 1, 3, 0, 1, 0, 1, 0, 1, 0, 0, 1, 0, 2, 3, 1, 3, 1, 3, 1, 3, 1, 1, 1, 1, 1, 3, 3, 1, 3, 3, 0, 1, 0, 3, 0, 3, 0, 3, 3, 3, 3, 1, 0, 0, 0, 3, 0, 3, 0, 1, 1, 3, 1, 3, 1, 3, 3, 0, 0, 3, 0, 3, 1, 0, 0, 1, 0, 0, 3, 3, 0, 1, 3, 1, 3, 1, 1, 3, 0, 1, 0, 0, 0, 1, 1, 0, 1, 3, 3, 3, 0, 3, 0, 0, 0, 3, 1, 1, 1, 3, 2, 3, 0, 0, 1, 3, 1, 3, 3, 0, 0, 0, 0, 1, 3, 0, 0, 0, 1, 1, 3, 1, 0, 3, 1, 0, 1, 3, 1, 1, 0, 0, 1, 3, 0, 0, 0, 0, 0, 1, 3, 3, 3, 1, 3, 1, 1, 0, 0, 3, 0, 1, 1, 3, 0, 0, 3, 3, 0, 3, 3, 2, 0, 1, 0, 0, 0, 3, 3, 1, 1, 0, 0, 1, 3, 1, 0, 1, 1, 1, 1, 1, 3, 0, 3, 1, 2, 0, 3, 1, 1, 0, 3, 1, 1, 0, 0, 3, 3, 3, 0, 3, 1, 3, 3, 0, 0, 1, 3, 0, 3, 1, 1, 0, 3, 1, 1, 3, 1, 3, 1, 1, 0, 1, 1, 0, 1, 0, 3, 1, 2, 0, 3, 1, 1, 3, 2, 3, 0, 3, 1, 0, 0, 3, 0, 3, 3, 1, 1, 1, 1, 0, 3, 0, 0, 1, 1, 0, 3, 0, 3, 0, 3, 3, 3, 0, 0, 1, 2, 1, 3, 0, 0, 0, 3, 1, 0, 3, 1, 0, 1, 1, 3, 0, 3, 1, 3, 0, 1, 0, 0, 1, 1, 3, 0, 3, 0, 3, 1, 1, 0, 0, 3, 0, 0, 1, 3, 3, 1, 3, 1, 3, 1, 0, 3, 0, 1, 3, 0, 1, 0, 1, 3, 0, 2, 1, 1, 0, 1, 1, 0, 3, 1, 0, 1, 1, 1, 0, 0, 0, 0, 3, 3, 3, 0, 1, 3, 0, 1, 1, 3, 1, 1, 3, 0, 3, 0, 0, 3, 0, 0, 0, 1, 0, 1, 3, 0, 1, 3, 1, 1, 3, 3, 0, 1, 0, 0, 0, 1, 3, 3, 1, 1, 1, 0, 3, 1, 3, 3, 0, 1, 3, 0, 1, 0, 0, 0, 1, 3, 1, 1, 0, 3, 0, 1, 2, 0, 1, 1, 0, 1, 3, 3, 3, 0, 0, 3, 3, 3, 3, 0, 1, 2, 0, 3, 3, 1, 0, 3, 0, 0, 1, 0, 3, 0, 1, 3, 2, 1, 0, 1, 3, 1, 1, 0, 1, 3, 0, 1, 1, 3, 0, 3, 0, 0, 3, 2, 0, 1, 3, 3, 3, 0, 0, 2, 0, 3, 1, 0, 0, 1, 0, 0, 3, 0, 3, 0, 1, 1, 1, 0, 3, 1, 0, 1, 0, 0, 1, 0, 3, 0, 0, 0, 0, 0, 3, 1, 3, 0, 1, 1, 0, 3, 0, 0, 3, 1, 1, 1, 0, 0, 3, 1, 3, 3, 1, 3, 1, 1, 3, 2, 1, 3, 1, 0, 1, 3, 1, 0, 1, 3, 3, 3, 0, 1, 0, 3, 0, 3, 1, 3, 1, 3, 3, 1, 0, 0, 0, 3, 0, 1, 3, 3, 0, 1, 3, 3, 1, 0, 3, 3, 2, 1, 3, 3, 1, 3, 0, 0, 1, 3, 1, 1, 1, 0, 3, 0, 3, 1, 1, 0, 3, 0, 3, 0, 1, 3, 3, 3, 0, 1, 3, 3, 0, 3, 3, 3, 3, 0, 3, 2, 3, 1, 0, 2, 1, 1, 1, 1, 3, 3, 1, 1, 1, 0, 3, 1, 3, 0, 0, 1, 0, 0, 3, 1, 0, 1, 0, 1, 3, 0, 1, 0, 1, 1, 0, 1, 0, 3, 3, 1, 1, 0, 1, 3, 1, 0, 0, 1, 0, 0, 0, 0, 3, 3, 0, 2, 1, 1, 3, 1, 0, 3, 3, 3, 3, 1, 0, 0, 0, 1, 1, 3, 3, 3, 3, 0, 0, 3, 0, 0, 0, 3, 0, 1, 0, 0, 0, 0, 1, 1, 0, 0, 0, 1, 0, 3, 0, 0, 3, 0, 1, 1, 1, 0, 1, 1, 0, 3, 1, 3, 3, 0, 0, 0, 1, 1, 3, 3, 3, 3, 0, 1, 0, 0, 3, 3, 1, 0, 3, 1, 3, 1, 3, 0, 0, 3, 3, 0, 3, 1, 1, 3, 3, 1, 1, 3, 3, 0, 3, 3, 1, 0, 3, 1, 3, 0, 1, 1, 1, 3, 0, 2, 3, 3, 1, 3, 0, 0, 1, 0, 3, 3, 1, 1, 1, 3, 0, 3, 1, 0, 3, 1, 3, 1, 3, 0, 0, 1, 0, 1, 3, 1, 1, 1, 3, 0, 0, 0, 1, 3, 1, 3, 3, 0, 1, 0, 1, 0, 3, 3, 0, 1, 3, 3, 3, 0, 0, 0, 1, 0, 1, 3, 0, 0, 0, 3, 3, 0, 1, 1, 3, 1, 1, 0, 1, 3, 3, 1, 1, 0, 0, 2, 2, 1, 1, 3, 3, 3, 0, 1, 3, 0, 0, 2, 1, 1, 3, 0, 3, 0, 1, 3, 0, 1, 3, 1, 0, 0, 3, 3, 1, 1, 1, 1, 3, 3, 0, 0, 1, 3, 0, 3, 0, 1, 0, 1, 0, 3, 3, 1, 1, 3, 3, 1, 1, 1, 0, 3, 3, 0, 1, 0, 3, 0, 3, 3, 0, 3, 3, 1, 1, 0, 1, 3, 1, 0, 1, 1, 1, 3, 0, 1, 1, 1, 3, 0, 1, 1, 3, 0, 1, 3, 1, 0, 3, 1, 1, 3, 0, 0, 3, 1, 0, 2, 1, 0, 0, 0, 2, 3, 3, 0, 1, 0, 2, 1, 3, 0, 3, 1, 1, 3, 3, 0, 1, 1, 0, 0, 3, 3, 3, 1, 0, 0, 0, 0, 1, 1, 0, 0, 3, 0, 3, 1, 1, 0, 1, 3, 1, 3, 1, 2, 0, 1, 1, 0, 3, 3, 3, 0, 0, 0, 3, 1, 0, 0, 1, 1, 3, 1, 0, 0, 1, 0, 0, 0, 0, 0, 1, 0, 1, 1, 0, 0, 1, 0, 1, 2, 3, 0, 3, 1, 3, 3, 1, 1, 3, 0, 3, 3, 0, 1, 1, 0, 3, 3, 3, 3, 3, 3, 0, 0, 1, 1, 3, 1, 1, 3, 3, 3, 3, 1, 3, 0, 3, 0, 0, 1, 1, 3, 0, 3, 3, 1, 2, 1, 3, 0, 3, 1, 0, 1, 0, 0, 0, 1, 1, 3, 3, 3, 3, 0, 1, 3, 3, 1, 3, 1, 1, 3, 1, 0, 1, 1, 3, 3, 0, 1, 3, 3, 0, 0, 3, 0, 1, 3, 0, 0, 3, 0, 3, 3, 0, 3, 1, 3, 2, 3, 3, 0, 1, 2, 0, 1, 0, 1, 1, 3, 3, 0, 3, 0, 0, 1, 3, 3, 3, 0, 1, 1, 3, 0, 3, 1, 0, 3, 1, 0, 1, 0, 0, 3, 3, 3, 2, 0, 1, 0, 0, 0, 0, 1, 0, 3, 2, 1, 0, 1, 1, 3, 1, 3, 1, 1, 0, 1, 0, 0, 1, 1, 1, 1, 2, 3, 3, 0, 3, 3, 1, 3, 1, 3, 0, 0, 0, 0, 2, 3, 3, 0, 3, 0, 2, 1, 3, 1, 3, 1, 1, 1, 3, 0, 3, 2, 1, 1, 1, 3, 3, 3, 1, 0, 1, 1, 1, 2, 3, 1, 3, 1, 2, 1, 0, 3, 3, 1, 3, 3, 3, 1, 3, 0, 3, 1, 1, 0, 1, 2, 1, 3, 1, 1, 3, 1, 1, 0, 3, 3, 0, 0, 0, 0, 3, 0, 0, 3, 1, 0, 0, 1, 1, 1, 3, 1, 0, 3, 2, 2, 3, 1, 1, 3, 3, 3, 1, 3, 0, 3, 1, 3, 1, 0, 3, 0, 1, 0, 1, 1, 1, 0, 0, 1, 1, 1, 3, 1, 1, 0, 0, 1, 3, 0, 0, 3, 3, 3, 1, 0, 3, 3, 3, 3, 1, 3, 1, 1, 0, 3, 3, 0, 1, 0, 1, 1, 1, 0, 3, 3, 3, 0, 3, 1, 1, 1, 0, 0, 3, 3, 0, 3, 1, 1, 1, 0, 0, 1, 3, 1, 1, 0, 3, 0, 2, 0, 1, 0, 1, 0, 1, 3, 3, 0, 1, 1, 1, 3, 3, 1, 3, 1, 3, 3, 1, 3, 2, 3, 3, 3, 0, 3, 3, 3, 0, 1, 3, 0, 3, 0, 0, 0, 3, 0, 1, 1, 0, 3, 0, 3, 3, 0, 0, 0, 1, 0, 0, 3, 0, 1, 3, 0, 3, 3, 0, 0, 0, 1, 3, 3, 0, 1, 0, 3, 1, 1, 0, 3, 1, 0, 1, 1, 1, 1, 3, 1, 0, 0, 0, 1, 3, 3, 0, 1, 1, 1, 0, 1, 0, 1, 1, 1, 1, 3, 1, 3, 0, 0, 2, 0, 0, 0, 0, 1, 0, 0, 3, 0, 0, 3, 1, 0, 1, 1, 1, 3, 1, 0, 0, 3, 3, 3, 3, 3, 1, 3, 0, 0, 2, 1, 3, 0, 0, 3, 1, 0, 0, 0, 1, 3, 0, 0, 1, 0, 0, 1, 3, 1, 2, 1, 0, 1, 3, 0, 3, 1, 1, 0, 0, 0, 0, 3, 0, 1, 0, 3, 1, 1, 0, 2, 0, 1, 0, 1, 0, 0, 0, 3, 3, 1, 3, 1, 0, 3, 0, 1, 2, 1, 0, 3, 1, 0, 1, 0, 1, 0, 1, 3, 3, 3, 0, 0, 0, 3, 2, 0, 2, 1, 3, 1, 0, 3, 3, 3, 3, 1, 2, 1, 0, 1, 2, 1, 3, 1, 0, 3, 3, 1, 1, 0, 0, 3, 0, 1, 3, 1, 3, 3, 1, 3, 0, 0, 0, 0, 3, 3, 0, 3, 3, 3, 3, 1, 2, 1, 0, 3, 2, 3, 0, 0, 3, 0, 1, 0, 1, 1, 0, 3, 3, 0, 1, 1, 3, 1, 3, 3, 0, 0, 2, 1, 3, 3, 1, 1, 1, 3, 3, 2, 1, 3, 3, 3, 0, 0, 0, 1, 3, 3, 0, 0, 3, 1, 0, 0, 3, 3, 2, 0, 1, 0, 3, 1, 3, 3, 2, 0, 3, 2, 2, 3, 3, 1, 0, 3, 0, 1, 3, 3, 3, 3, 1, 3, 0, 0, 3, 0, 1, 1, 0, 3, 1, 1, 0, 0, 3, 2, 1, 3, 1, 3, 1, 1, 0, 3, 0, 0, 0, 1, 0, 3, 0, 0, 3, 2, 1, 3, 3, 3, 3, 3, 1, 1, 0, 1, 0, 3, 0, 1, 3, 0, 0, 3, 1, 0, 0, 0, 3, 3, 0, 1, 0, 1, 0, 2, 0, 0, 1, 0, 0, 0, 3, 0, 0, 0, 0, 0]\n",
      "[[851  86   5  58]\n",
      " [133 661   5 201]\n",
      " [ 18  20  48  14]\n",
      " [ 46 129   9 816]]\n",
      "              precision    recall  f1-score   support\n",
      "\n",
      "           0       0.81      0.85      0.83      1000\n",
      "           1       0.74      0.66      0.70      1000\n",
      "           2       0.72      0.48      0.57       100\n",
      "           3       0.75      0.82      0.78      1000\n",
      "\n",
      "    accuracy                           0.77      3100\n",
      "   macro avg       0.75      0.70      0.72      3100\n",
      "weighted avg       0.76      0.77      0.76      3100\n",
      "\n"
     ]
    }
   ],
   "source": [
    "from sklearn.metrics import confusion_matrix, classification_report\n",
    "from torch.utils.data import DataLoader\n",
    "import numpy as np\n",
    "import torch \n",
    "from torchvision.models import resnet18\n",
    "import torch.nn as nn\n",
    "\n",
    "\n",
    "def test_report(model, dataloader):\n",
    "    \"\"\"Prints confusion matrix for testing dataset\n",
    "    dataloader should be of batch_size=1.\"\"\"\n",
    "\n",
    "    y_pred = []\n",
    "    y_test = []\n",
    "    model.eval()\n",
    "    with torch.no_grad():\n",
    "        for data, label in dataloader:\n",
    "            output = model(data)\n",
    "            label = label.numpy()\n",
    "            output = output.numpy()\n",
    "\n",
    "          \n",
    "\n",
    "            y_pred.append(np.argmax(output))\n",
    "            y_test.append(np.argmax(label))\n",
    "        print(y_pred)\n",
    "        print(y_test)\n",
    "        print(confusion_matrix(y_test, y_pred))\n",
    "        print(classification_report(y_test, y_pred))\n",
    "\n",
    "testset =ImageDataset(data_path='test_data')\n",
    "dataloader = DataLoader(testset, batch_size=1, shuffle=True)\n",
    "\n",
    "test_report(model.to('cpu'), dataloader)"
   ]
  },
  {
   "cell_type": "code",
   "execution_count": null,
   "metadata": {},
   "outputs": [],
   "source": [
    "import seaborn as sns\n",
    "import numpy as np\n",
    "import matplotlib.pyplot as plt\n",
    "\n",
    "# Given NumPy array\n",
    "arr = np.array([[177, 2, 1, 6],\n",
    "                [2, 20, 6, 4],\n",
    "                [1, 5, 219, 0],\n",
    "                [6, 6, 0, 202]])\n",
    "\n",
    "# Create a heatmap with values\n",
    "sns.heatmap(arr, annot=True, fmt=\"d\", cmap=\"YlGnBu\")"
   ]
  },
  {
   "cell_type": "code",
   "execution_count": null,
   "metadata": {},
   "outputs": [
    {
     "ename": "NotFoundError",
     "evalue": "b'lightning_logs\\x0bersion_5\\\\events.out.tfevents.1709320553.AdamPC.12088.0' does not point to valid Events file",
     "output_type": "error",
     "traceback": [
      "\u001b[1;31m---------------------------------------------------------------------------\u001b[0m",
      "\u001b[1;31mNotFoundError\u001b[0m                             Traceback (most recent call last)",
      "Cell \u001b[1;32mIn[2], line 3\u001b[0m\n\u001b[0;32m      1\u001b[0m \u001b[38;5;28;01mfrom\u001b[39;00m \u001b[38;5;21;01mtensorboard\u001b[39;00m\u001b[38;5;21;01m.\u001b[39;00m\u001b[38;5;21;01mbackend\u001b[39;00m\u001b[38;5;21;01m.\u001b[39;00m\u001b[38;5;21;01mevent_processing\u001b[39;00m\u001b[38;5;21;01m.\u001b[39;00m\u001b[38;5;21;01mevent_accumulator\u001b[39;00m \u001b[38;5;28;01mimport\u001b[39;00m EventAccumulator\n\u001b[1;32m----> 3\u001b[0m event_acc \u001b[38;5;241m=\u001b[39m \u001b[43mEventAccumulator\u001b[49m\u001b[43m(\u001b[49m\u001b[38;5;124;43m\"\u001b[39;49m\u001b[38;5;124;43mlightning_logs\u001b[39;49m\u001b[38;5;130;43;01m\\v\u001b[39;49;00m\u001b[38;5;124;43mersion_5\u001b[39;49m\u001b[38;5;124;43m\\\u001b[39;49m\u001b[38;5;124;43mevents.out.tfevents.1709320553.AdamPC.12088.0\u001b[39;49m\u001b[38;5;124;43m\"\u001b[39;49m\u001b[43m)\u001b[49m\n",
      "File \u001b[1;32mc:\\Users\\adame\\miniconda3\\envs\\myenv\\lib\\site-packages\\tensorboard\\backend\\event_processing\\event_accumulator.py:312\u001b[0m, in \u001b[0;36mEventAccumulator.__init__\u001b[1;34m(self, path, size_guidance, compression_bps, purge_orphaned_data)\u001b[0m\n\u001b[0;32m    310\u001b[0m \u001b[38;5;28mself\u001b[39m\u001b[38;5;241m.\u001b[39m_generator_mutex \u001b[38;5;241m=\u001b[39m threading\u001b[38;5;241m.\u001b[39mLock()\n\u001b[0;32m    311\u001b[0m \u001b[38;5;28mself\u001b[39m\u001b[38;5;241m.\u001b[39mpath \u001b[38;5;241m=\u001b[39m path\n\u001b[1;32m--> 312\u001b[0m \u001b[38;5;28mself\u001b[39m\u001b[38;5;241m.\u001b[39m_generator \u001b[38;5;241m=\u001b[39m \u001b[43m_GeneratorFromPath\u001b[49m\u001b[43m(\u001b[49m\u001b[43mpath\u001b[49m\u001b[43m)\u001b[49m\n\u001b[0;32m    314\u001b[0m \u001b[38;5;28mself\u001b[39m\u001b[38;5;241m.\u001b[39m_compression_bps \u001b[38;5;241m=\u001b[39m compression_bps\n\u001b[0;32m    315\u001b[0m \u001b[38;5;28mself\u001b[39m\u001b[38;5;241m.\u001b[39mpurge_orphaned_data \u001b[38;5;241m=\u001b[39m purge_orphaned_data\n",
      "File \u001b[1;32mc:\\Users\\adame\\miniconda3\\envs\\myenv\\lib\\site-packages\\tensorboard\\backend\\event_processing\\event_accumulator.py:945\u001b[0m, in \u001b[0;36m_GeneratorFromPath\u001b[1;34m(path)\u001b[0m\n\u001b[0;32m    943\u001b[0m     \u001b[38;5;28;01mraise\u001b[39;00m \u001b[38;5;167;01mValueError\u001b[39;00m(\u001b[38;5;124m\"\u001b[39m\u001b[38;5;124mpath must be a valid string\u001b[39m\u001b[38;5;124m\"\u001b[39m)\n\u001b[0;32m    944\u001b[0m \u001b[38;5;28;01mif\u001b[39;00m io_wrapper\u001b[38;5;241m.\u001b[39mIsSummaryEventsFile(path):\n\u001b[1;32m--> 945\u001b[0m     \u001b[38;5;28;01mreturn\u001b[39;00m \u001b[43mevent_file_loader\u001b[49m\u001b[38;5;241;43m.\u001b[39;49m\u001b[43mLegacyEventFileLoader\u001b[49m\u001b[43m(\u001b[49m\u001b[43mpath\u001b[49m\u001b[43m)\u001b[49m\n\u001b[0;32m    946\u001b[0m \u001b[38;5;28;01melse\u001b[39;00m:\n\u001b[0;32m    947\u001b[0m     \u001b[38;5;28;01mreturn\u001b[39;00m directory_watcher\u001b[38;5;241m.\u001b[39mDirectoryWatcher(\n\u001b[0;32m    948\u001b[0m         path,\n\u001b[0;32m    949\u001b[0m         event_file_loader\u001b[38;5;241m.\u001b[39mLegacyEventFileLoader,\n\u001b[0;32m    950\u001b[0m         io_wrapper\u001b[38;5;241m.\u001b[39mIsSummaryEventsFile,\n\u001b[0;32m    951\u001b[0m     )\n",
      "File \u001b[1;32mc:\\Users\\adame\\miniconda3\\envs\\myenv\\lib\\site-packages\\tensorboard\\backend\\event_processing\\event_file_loader.py:136\u001b[0m, in \u001b[0;36mRawEventFileLoader.__init__\u001b[1;34m(self, file_path, detect_file_replacement)\u001b[0m\n\u001b[0;32m    134\u001b[0m \u001b[38;5;28mself\u001b[39m\u001b[38;5;241m.\u001b[39m_detect_file_replacement \u001b[38;5;241m=\u001b[39m detect_file_replacement\n\u001b[0;32m    135\u001b[0m \u001b[38;5;28mself\u001b[39m\u001b[38;5;241m.\u001b[39m_file_size \u001b[38;5;241m=\u001b[39m \u001b[38;5;28;01mNone\u001b[39;00m\n\u001b[1;32m--> 136\u001b[0m \u001b[38;5;28mself\u001b[39m\u001b[38;5;241m.\u001b[39m_iterator \u001b[38;5;241m=\u001b[39m \u001b[43m_make_tf_record_iterator\u001b[49m\u001b[43m(\u001b[49m\u001b[38;5;28;43mself\u001b[39;49m\u001b[38;5;241;43m.\u001b[39;49m\u001b[43m_file_path\u001b[49m\u001b[43m)\u001b[49m\n\u001b[0;32m    137\u001b[0m \u001b[38;5;28;01mif\u001b[39;00m \u001b[38;5;28mself\u001b[39m\u001b[38;5;241m.\u001b[39m_detect_file_replacement \u001b[38;5;129;01mand\u001b[39;00m \u001b[38;5;129;01mnot\u001b[39;00m \u001b[38;5;28mhasattr\u001b[39m(\n\u001b[0;32m    138\u001b[0m     \u001b[38;5;28mself\u001b[39m\u001b[38;5;241m.\u001b[39m_iterator, \u001b[38;5;124m\"\u001b[39m\u001b[38;5;124mreopen\u001b[39m\u001b[38;5;124m\"\u001b[39m\n\u001b[0;32m    139\u001b[0m ):\n\u001b[0;32m    140\u001b[0m     logger\u001b[38;5;241m.\u001b[39mwarning(\n\u001b[0;32m    141\u001b[0m         \u001b[38;5;124m\"\u001b[39m\u001b[38;5;124mFile replacement detection requested, but not enabled because \u001b[39m\u001b[38;5;124m\"\u001b[39m\n\u001b[0;32m    142\u001b[0m         \u001b[38;5;124m\"\u001b[39m\u001b[38;5;124mTF record iterator impl does not support reopening. This \u001b[39m\u001b[38;5;124m\"\u001b[39m\n\u001b[0;32m    143\u001b[0m         \u001b[38;5;124m\"\u001b[39m\u001b[38;5;124mfunctionality requires TensorFlow 2.9+\u001b[39m\u001b[38;5;124m\"\u001b[39m\n\u001b[0;32m    144\u001b[0m     )\n",
      "File \u001b[1;32mc:\\Users\\adame\\miniconda3\\envs\\myenv\\lib\\site-packages\\tensorboard\\backend\\event_processing\\event_file_loader.py:59\u001b[0m, in \u001b[0;36m_make_tf_record_iterator\u001b[1;34m(file_path)\u001b[0m\n\u001b[0;32m     55\u001b[0m \u001b[38;5;28;01mif\u001b[39;00m tf\u001b[38;5;241m.\u001b[39m__version__ \u001b[38;5;241m==\u001b[39m \u001b[38;5;124m\"\u001b[39m\u001b[38;5;124mstub\u001b[39m\u001b[38;5;124m\"\u001b[39m:\n\u001b[0;32m     56\u001b[0m     \u001b[38;5;66;03m# TODO(#1711): Reshape stub implementation to fit tf_record_iterator API\u001b[39;00m\n\u001b[0;32m     57\u001b[0m     \u001b[38;5;66;03m# rather than needlessly emulating the old PyRecordReader_New API.\u001b[39;00m\n\u001b[0;32m     58\u001b[0m     logger\u001b[38;5;241m.\u001b[39mdebug(\u001b[38;5;124m\"\u001b[39m\u001b[38;5;124mOpening a stub record reader pointing at \u001b[39m\u001b[38;5;132;01m%s\u001b[39;00m\u001b[38;5;124m\"\u001b[39m, file_path)\n\u001b[1;32m---> 59\u001b[0m     \u001b[38;5;28;01mreturn\u001b[39;00m \u001b[43m_PyRecordReaderIterator\u001b[49m\u001b[43m(\u001b[49m\n\u001b[0;32m     60\u001b[0m \u001b[43m        \u001b[49m\u001b[43mtf\u001b[49m\u001b[38;5;241;43m.\u001b[39;49m\u001b[43mpywrap_tensorflow\u001b[49m\u001b[38;5;241;43m.\u001b[39;49m\u001b[43mPyRecordReader_New\u001b[49m\u001b[43m,\u001b[49m\u001b[43m \u001b[49m\u001b[43mfile_path\u001b[49m\n\u001b[0;32m     61\u001b[0m \u001b[43m    \u001b[49m\u001b[43m)\u001b[49m\n\u001b[0;32m     62\u001b[0m \u001b[38;5;66;03m# If PyRecordReader exists, use it, otherwise use tf_record_iterator().\u001b[39;00m\n\u001b[0;32m     63\u001b[0m \u001b[38;5;66;03m# Check old first, then new, since tf_record_iterator existed previously but\u001b[39;00m\n\u001b[0;32m     64\u001b[0m \u001b[38;5;66;03m# only gained the semantics we need at the time PyRecordReader was removed.\u001b[39;00m\n\u001b[1;32m   (...)\u001b[0m\n\u001b[0;32m     67\u001b[0m \u001b[38;5;66;03m# support for TF 2.1 and prior, and find a non-deprecated replacement for\u001b[39;00m\n\u001b[0;32m     68\u001b[0m \u001b[38;5;66;03m# tf.compat.v1.io.tf_record_iterator.\u001b[39;00m\n\u001b[0;32m     69\u001b[0m \u001b[38;5;28;01mtry\u001b[39;00m:\n",
      "File \u001b[1;32mc:\\Users\\adame\\miniconda3\\envs\\myenv\\lib\\site-packages\\tensorboard\\backend\\event_processing\\event_file_loader.py:96\u001b[0m, in \u001b[0;36m_PyRecordReaderIterator.__init__\u001b[1;34m(self, py_record_reader_new, file_path)\u001b[0m\n\u001b[0;32m     89\u001b[0m \u001b[38;5;250m\u001b[39m\u001b[38;5;124;03m\"\"\"Constructs a _PyRecordReaderIterator for the given file path.\u001b[39;00m\n\u001b[0;32m     90\u001b[0m \n\u001b[0;32m     91\u001b[0m \u001b[38;5;124;03mArgs:\u001b[39;00m\n\u001b[0;32m     92\u001b[0m \u001b[38;5;124;03m  py_record_reader_new: pywrap_tensorflow.PyRecordReader_New\u001b[39;00m\n\u001b[0;32m     93\u001b[0m \u001b[38;5;124;03m  file_path: file path of the tfrecord file to read\u001b[39;00m\n\u001b[0;32m     94\u001b[0m \u001b[38;5;124;03m\"\"\"\u001b[39;00m\n\u001b[0;32m     95\u001b[0m \u001b[38;5;28;01mwith\u001b[39;00m tf\u001b[38;5;241m.\u001b[39mcompat\u001b[38;5;241m.\u001b[39mv1\u001b[38;5;241m.\u001b[39merrors\u001b[38;5;241m.\u001b[39mraise_exception_on_not_ok_status() \u001b[38;5;28;01mas\u001b[39;00m status:\n\u001b[1;32m---> 96\u001b[0m     \u001b[38;5;28mself\u001b[39m\u001b[38;5;241m.\u001b[39m_reader \u001b[38;5;241m=\u001b[39m \u001b[43mpy_record_reader_new\u001b[49m\u001b[43m(\u001b[49m\n\u001b[0;32m     97\u001b[0m \u001b[43m        \u001b[49m\u001b[43mtf\u001b[49m\u001b[38;5;241;43m.\u001b[39;49m\u001b[43mcompat\u001b[49m\u001b[38;5;241;43m.\u001b[39;49m\u001b[43mas_bytes\u001b[49m\u001b[43m(\u001b[49m\u001b[43mfile_path\u001b[49m\u001b[43m)\u001b[49m\u001b[43m,\u001b[49m\u001b[43m \u001b[49m\u001b[38;5;241;43m0\u001b[39;49m\u001b[43m,\u001b[49m\u001b[43m \u001b[49m\u001b[43mtf\u001b[49m\u001b[38;5;241;43m.\u001b[39;49m\u001b[43mcompat\u001b[49m\u001b[38;5;241;43m.\u001b[39;49m\u001b[43mas_bytes\u001b[49m\u001b[43m(\u001b[49m\u001b[38;5;124;43m\"\u001b[39;49m\u001b[38;5;124;43m\"\u001b[39;49m\u001b[43m)\u001b[49m\u001b[43m,\u001b[49m\u001b[43m \u001b[49m\u001b[43mstatus\u001b[49m\n\u001b[0;32m     98\u001b[0m \u001b[43m    \u001b[49m\u001b[43m)\u001b[49m\n\u001b[0;32m     99\u001b[0m \u001b[38;5;28;01mif\u001b[39;00m \u001b[38;5;129;01mnot\u001b[39;00m \u001b[38;5;28mself\u001b[39m\u001b[38;5;241m.\u001b[39m_reader:\n\u001b[0;32m    100\u001b[0m     \u001b[38;5;28;01mraise\u001b[39;00m \u001b[38;5;167;01mIOError\u001b[39;00m(\n\u001b[0;32m    101\u001b[0m         \u001b[38;5;124m\"\u001b[39m\u001b[38;5;124mFailed to open a record reader pointing to \u001b[39m\u001b[38;5;132;01m%s\u001b[39;00m\u001b[38;5;124m\"\u001b[39m \u001b[38;5;241m%\u001b[39m file_path\n\u001b[0;32m    102\u001b[0m     )\n",
      "File \u001b[1;32mc:\\Users\\adame\\miniconda3\\envs\\myenv\\lib\\site-packages\\tensorboard\\compat\\tensorflow_stub\\pywrap_tensorflow.py:177\u001b[0m, in \u001b[0;36mPyRecordReader_New.__init__\u001b[1;34m(self, filename, start_offset, compression_type, status)\u001b[0m\n\u001b[0;32m    173\u001b[0m     \u001b[38;5;28;01mraise\u001b[39;00m errors\u001b[38;5;241m.\u001b[39mNotFoundError(\n\u001b[0;32m    174\u001b[0m         \u001b[38;5;28;01mNone\u001b[39;00m, \u001b[38;5;28;01mNone\u001b[39;00m, \u001b[38;5;124m\"\u001b[39m\u001b[38;5;124mNo filename provided, cannot read Events\u001b[39m\u001b[38;5;124m\"\u001b[39m\n\u001b[0;32m    175\u001b[0m     )\n\u001b[0;32m    176\u001b[0m \u001b[38;5;28;01mif\u001b[39;00m \u001b[38;5;129;01mnot\u001b[39;00m gfile\u001b[38;5;241m.\u001b[39mexists(filename):\n\u001b[1;32m--> 177\u001b[0m     \u001b[38;5;28;01mraise\u001b[39;00m errors\u001b[38;5;241m.\u001b[39mNotFoundError(\n\u001b[0;32m    178\u001b[0m         \u001b[38;5;28;01mNone\u001b[39;00m,\n\u001b[0;32m    179\u001b[0m         \u001b[38;5;28;01mNone\u001b[39;00m,\n\u001b[0;32m    180\u001b[0m         \u001b[38;5;124m\"\u001b[39m\u001b[38;5;132;01m{}\u001b[39;00m\u001b[38;5;124m does not point to valid Events file\u001b[39m\u001b[38;5;124m\"\u001b[39m\u001b[38;5;241m.\u001b[39mformat(filename),\n\u001b[0;32m    181\u001b[0m     )\n\u001b[0;32m    182\u001b[0m \u001b[38;5;28;01mif\u001b[39;00m start_offset:\n\u001b[0;32m    183\u001b[0m     \u001b[38;5;28;01mraise\u001b[39;00m errors\u001b[38;5;241m.\u001b[39mUnimplementedError(\n\u001b[0;32m    184\u001b[0m         \u001b[38;5;28;01mNone\u001b[39;00m, \u001b[38;5;28;01mNone\u001b[39;00m, \u001b[38;5;124m\"\u001b[39m\u001b[38;5;124mstart offset not supported by compat reader\u001b[39m\u001b[38;5;124m\"\u001b[39m\n\u001b[0;32m    185\u001b[0m     )\n",
      "\u001b[1;31mNotFoundError\u001b[0m: b'lightning_logs\\x0bersion_5\\\\events.out.tfevents.1709320553.AdamPC.12088.0' does not point to valid Events file"
     ]
    }
   ],
   "source": [
    "from tensorboard.backend.event_processing.event_accumulator import EventAccumulator\n",
    "\n",
    "event_acc = EventAccumulator(\"lightning_logs\\version_5\\events.out.tfevents.1709320553.AdamPC.12088.0\")"
   ]
  }
 ],
 "metadata": {
  "kernelspec": {
   "display_name": "Python 3 (ipykernel)",
   "language": "python",
   "name": "python3"
  },
  "language_info": {
   "codemirror_mode": {
    "name": "ipython",
    "version": 3
   },
   "file_extension": ".py",
   "mimetype": "text/x-python",
   "name": "python",
   "nbconvert_exporter": "python",
   "pygments_lexer": "ipython3",
   "version": "3.10.14"
  }
 },
 "nbformat": 4,
 "nbformat_minor": 4
}

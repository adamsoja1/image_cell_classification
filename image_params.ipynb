{
 "cells": [
  {
   "cell_type": "code",
   "execution_count": 6,
   "id": "4700614d-01f6-4391-9a00-0ea5892d96ef",
   "metadata": {},
   "outputs": [],
   "source": [
    "import torch\n",
    "from dataset import ImageDataset"
   ]
  },
  {
   "cell_type": "code",
   "execution_count": 7,
   "id": "cbaec861-bf77-4c8b-ab61-e4b7d66f6b30",
   "metadata": {},
   "outputs": [],
   "source": [
    "trainset = ImageDataset(data_path='train_data')"
   ]
  },
  {
   "cell_type": "code",
   "execution_count": 3,
   "id": "68821c6b-5a82-403c-99ce-0c6240c4673f",
   "metadata": {},
   "outputs": [
    {
     "data": {
      "text/plain": [
       "255.0"
      ]
     },
     "execution_count": 3,
     "metadata": {},
     "output_type": "execute_result"
    }
   ],
   "source": [
    "max_val = 0\n",
    "for idx in range(len(trainset)):\n",
    "    img = trainset[idx][0]\n",
    "    if torch.max(img).item() > max_val:\n",
    "        max_val = torch.max(img).item()\n",
    "max_val"
   ]
  },
  {
   "cell_type": "code",
   "execution_count": 8,
   "id": "988c2a97-dfa5-4628-9565-2e3425ebc6ef",
   "metadata": {},
   "outputs": [
    {
     "name": "stdout",
     "output_type": "stream",
     "text": [
      "tensor([0.5005, 0.3526, 0.5494])\n",
      "tensor([0.1493, 0.1340, 0.1123])\n"
     ]
    }
   ],
   "source": [
    "mean = 0\n",
    "std = 0\n",
    "for idx in range(len(trainset)):\n",
    "    img = trainset[idx][0]\n",
    "    mean += torch.mean(img, dim=(1, 2))\n",
    "    std += torch.std(img, dim=(1, 2))\n",
    "\n",
    "mean /= len(trainset)\n",
    "std /= len(trainset)\n",
    "\n",
    "print(mean/255)\n",
    "print(std/255)"
   ]
  },
  {
   "cell_type": "code",
   "execution_count": 9,
   "id": "d530e069-8d5d-4f1c-9f0c-a96af185d75c",
   "metadata": {},
   "outputs": [
    {
     "name": "stdout",
     "output_type": "stream",
     "text": [
      "tensor([0.5005, 0.3526, 0.5494])\n",
      "tensor([0.1493, 0.1340, 0.1123])\n"
     ]
    }
   ],
   "source": [
    "print(mean/255)\n",
    "print(std/255)"
   ]
  },
  {
   "cell_type": "code",
   "execution_count": null,
   "id": "d9b8b0f2-4a3f-4246-a842-307fea0aa065",
   "metadata": {},
   "outputs": [],
   "source": []
  },
  {
   "cell_type": "code",
   "execution_count": null,
   "id": "0b320b07-ba42-47ac-b71a-c7bfdcfab7bd",
   "metadata": {},
   "outputs": [],
   "source": []
  }
 ],
 "metadata": {
  "kernelspec": {
   "display_name": "Python 3 (ipykernel)",
   "language": "python",
   "name": "python3"
  },
  "language_info": {
   "codemirror_mode": {
    "name": "ipython",
    "version": 3
   },
   "file_extension": ".py",
   "mimetype": "text/x-python",
   "name": "python",
   "nbconvert_exporter": "python",
   "pygments_lexer": "ipython3",
   "version": "3.10.14"
  }
 },
 "nbformat": 4,
 "nbformat_minor": 5
}

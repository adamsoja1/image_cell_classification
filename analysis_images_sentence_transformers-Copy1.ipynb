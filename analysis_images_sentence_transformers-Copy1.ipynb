{
 "cells": [
  {
   "cell_type": "code",
   "execution_count": 1,
   "id": "e6d9a631-1542-4a49-bab1-0376f837fa1f",
   "metadata": {},
   "outputs": [
    {
     "name": "stderr",
     "output_type": "stream",
     "text": [
      "/home/adam/miniconda3/envs/cells/lib/python3.10/site-packages/sentence_transformers/cross_encoder/CrossEncoder.py:11: TqdmWarning: IProgress not found. Please update jupyter and ipywidgets. See https://ipywidgets.readthedocs.io/en/stable/user_install.html\n",
      "  from tqdm.autonotebook import tqdm, trange\n"
     ]
    }
   ],
   "source": [
    "from sentence_transformers import SentenceTransformer\n",
    "from PIL import Image\n",
    "import os\n",
    "\n",
    "model = SentenceTransformer(\"clip-ViT-B-32\")\n",
    "model = model.to('cuda')\n"
   ]
  },
  {
   "cell_type": "code",
   "execution_count": 2,
   "id": "4fabba68-cd3e-47b8-afec-51379e0d9ec6",
   "metadata": {},
   "outputs": [],
   "source": [
    "encodings = []\n",
    "classes = []\n",
    "path = []\n",
    "for image_class in os.listdir('cells_final'):\n",
    "    for img in os.listdir(f'cells_final/{image_class}'):\n",
    "        path.append(f'cells_final/{image_class}/{img}')\n",
    "        encodings.append(model.encode(Image.open(f'cells_final/{image_class}/{img}')))\n",
    "        classes.append(image_class)\n",
    "                         \n",
    "        "
   ]
  },
  {
   "cell_type": "code",
   "execution_count": 3,
   "id": "fb90b971-30f6-4737-9af4-0da56640fe4f",
   "metadata": {},
   "outputs": [],
   "source": [
    "import pandas as pd\n",
    "df = pd.DataFrame()\n",
    "df['embeddings'] = encodings\n",
    "df['classes'] = classes\n",
    "df['path'] = path\n",
    "#df.to_csv('embedings.csv')"
   ]
  },
  {
   "cell_type": "code",
   "execution_count": 4,
   "id": "befe3a4d-01a8-4901-8bab-cef473d123d8",
   "metadata": {},
   "outputs": [],
   "source": [
    "df['class'] = classes"
   ]
  },
  {
   "cell_type": "code",
   "execution_count": 6,
   "id": "abd1a731-9bb5-4c10-812b-2a442eed60cd",
   "metadata": {},
   "outputs": [],
   "source": [
    "from sklearn.decomposition import PCA\n",
    "import numpy as np\n",
    "# Perform PCA\n",
    "pca = PCA(n_components=2)\n",
    "pca_embs = pca.fit_transform(np.array(encodings))\n",
    "\n",
    "# Add to dataframe for convenience\n",
    "df['pca_x'] = pca_embs[:, 0]\n",
    "df['pca_y'] = pca_embs[:, 1]\n"
   ]
  },
  {
   "cell_type": "code",
   "execution_count": null,
   "id": "c326c0b2-f4c0-484d-af1f-c395f0362a26",
   "metadata": {},
   "outputs": [],
   "source": [
    "import umap.umap_ as umap\n",
    "import numpy as np\n",
    "\n",
    "# Perform UMAP\n",
    "umap_reducer = umap.UMAP(n_components=2, metric=\"euclidean\", n_jobs=5, min_dist=0.8, n_neighbors=500)\n",
    "umap_embs = umap_reducer.fit_transform(np.array(encodings))\n",
    "\n",
    "# Add to dataframe for convenience\n",
    "df['umap_x'] = umap_embs[:, 0]\n",
    "df['umap_y'] = umap_embs[:, 1]\n"
   ]
  },
  {
   "cell_type": "code",
   "execution_count": null,
   "id": "8ebddab9-2903-42ad-a55a-c25d8736d465",
   "metadata": {},
   "outputs": [],
   "source": [
    "import matplotlib.pyplot as plt\n",
    "import seaborn as sns\n",
    "\n",
    "# Define figure size and number of subplots\n",
    "FS = (18, 6)\n",
    "\n",
    "# Create subplots\n",
    "fig, axes = plt.subplots(1, 2, figsize=FS)\n",
    "\n",
    "# t-SNE plot\n",
    "\n",
    "\n",
    "# PCA plot\n",
    "sns.scatterplot(ax=axes[0], x='pca_x', y='pca_y', hue='class', data=df, palette='tab10', alpha=0.1)\n",
    "axes[0].set_title('PCA')\n",
    "axes[0].set_xlabel('pca_x')\n",
    "axes[0].set_ylabel('pca_y')\n",
    "\n",
    "# UMAP plot\n",
    "sns.scatterplot(ax=axes[1], x='umap_x', y='umap_y', hue='class', data=df, palette='tab10', alpha=0.1)\n",
    "axes[1].set_title('UMAP')\n",
    "axes[1].set_xlabel('umap_x')\n",
    "axes[1].set_ylabel('umap_y')\n",
    "\n",
    "# Adjust layout for better spacing\n",
    "plt.tight_layout()\n",
    "\n",
    "# Show the plot\n",
    "plt.show()\n"
   ]
  },
  {
   "cell_type": "code",
   "execution_count": null,
   "id": "ecd2b944-da27-4574-8830-503a35ebb0ba",
   "metadata": {},
   "outputs": [],
   "source": [
    "import numpy as np\n",
    "np.save('array.npy', np.array(encodings))"
   ]
  },
  {
   "cell_type": "code",
   "execution_count": 8,
   "id": "0f1cb452-a878-4091-a685-de372aaaa0e3",
   "metadata": {},
   "outputs": [],
   "source": [
    "df.to_csv('reduced.csv')"
   ]
  },
  {
   "cell_type": "code",
   "execution_count": null,
   "id": "ca42fad7-e32b-407b-93d8-0b814455b93c",
   "metadata": {},
   "outputs": [],
   "source": []
  },
  {
   "cell_type": "code",
   "execution_count": null,
   "id": "11902c2b-7057-4cbd-80ee-edc5e6fd913d",
   "metadata": {},
   "outputs": [],
   "source": []
  }
 ],
 "metadata": {
  "kernelspec": {
   "display_name": "Python 3 (ipykernel)",
   "language": "python",
   "name": "python3"
  },
  "language_info": {
   "codemirror_mode": {
    "name": "ipython",
    "version": 3
   },
   "file_extension": ".py",
   "mimetype": "text/x-python",
   "name": "python",
   "nbconvert_exporter": "python",
   "pygments_lexer": "ipython3",
   "version": "3.10.14"
  }
 },
 "nbformat": 4,
 "nbformat_minor": 5
}

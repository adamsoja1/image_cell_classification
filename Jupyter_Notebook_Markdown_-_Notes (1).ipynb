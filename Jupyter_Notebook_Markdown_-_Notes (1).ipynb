{
 "cells": [
  {
   "cell_type": "markdown",
   "id": "77c1f095-4e87-4b94-bc36-1ed595d92c30",
   "metadata": {},
   "source": [
    "# Headings\n",
    "\n",
    "## Heading Two\n",
    "\n",
    "### Heading Three\n",
    "\n",
    "#### Heading Four\n",
    "\n",
    "##### Heading Five\n",
    "\n",
    "###### Heading Six"
   ]
  },
  {
   "cell_type": "markdown",
   "id": "47e27479-c14f-42a1-933f-4ab0bb6358ee",
   "metadata": {},
   "source": [
    "# Lists (bullet, checklist)\n",
    "* This is a bullet list\n",
    "  + subitem 1\n",
    "  + subitem 2\n",
    "* subitem\n",
    "* This is a bullet list\n",
    "* This is a bullet list\n",
    "\n",
    "\n",
    "1. And you can also create ordered lists\n",
    "2. by using numbers\n",
    "   - another subitem\n",
    "   - another subitem\n",
    "4. and listing new items in the lists\n",
    "   1. subitem 1\n",
    "   2. subitem 2\n",
    "6. on their own lines\n",
    "7. ~~huehuehue~~\n",
    "\n",
    "+ [ ] To do\n",
    "+ [ ] Another To do\n",
    "+ [x] Done\n"
   ]
  },
  {
   "cell_type": "markdown",
   "id": "9b03ca3d-11e4-4ccc-8d67-9fb6165f1576",
   "metadata": {},
   "source": [
    "# Bold and italicized words\n",
    "*These are italicized words, not a bullet list*\n",
    "**These are bold words, not a bullet list**\n",
    "\n",
    "* **This is a bullet item with bold words**\n",
    "* *This is a bullet item with italicized words*"
   ]
  },
  {
   "cell_type": "markdown",
   "id": "b637fa97-9080-44ee-a93b-51afd22668dc",
   "metadata": {},
   "source": [
    "# Higlight Code\n",
    "`Here is some code!`\n",
    "\n",
    "<code>Python\n",
    "str = \"This is a block level code\"\n",
    "print(str)\n",
    "</code>"
   ]
  },
  {
   "cell_type": "markdown",
   "id": "902c84e3-4e79-44e6-af7e-017e681e97e1",
   "metadata": {},
   "source": [
    "# Horizontal Lines\n",
    "---\n",
    "\n",
    "Here is some important text!\n",
    "\n",
    "***"
   ]
  },
  {
   "cell_type": "markdown",
   "id": "1ae54a58-ccf6-4d01-9215-1f756e50b1f5",
   "metadata": {},
   "source": [
    "# Hyperlinks\n",
    "<a href=\"url\" target=\"_blank\">hyperlinked words</a>\n",
    "\n",
    "Our program website can be found at <a href=\"http://earthdatascience.org\" target=\"_blank\">this link</a>."
   ]
  },
  {
   "cell_type": "markdown",
   "id": "4e2d2065-31e2-41d6-904b-15633f318a20",
   "metadata": {},
   "source": [
    "# Render Images\n",
    "![alt text here](url-to-image-here)\n",
    "\n",
    "![Markdown Logo is here.](https://www.fullstackpython.com/img/logos/markdown.png)"
   ]
  },
  {
   "cell_type": "markdown",
   "id": "d7904df1-231a-48b7-bead-21e87c69b706",
   "metadata": {},
   "source": [
    "# Local Imges Using Relative Computer Paths\n",
    "![alt text here](path-to-image-here)\n",
    "\n",
    "For relative paths (images stored on your computer) to work in Jupyter Notebook, you need to place the image in a location on your computer that is RELATIVE to your .ipynb file. This is where good file management becomes extremely important."
   ]
  },
  {
   "cell_type": "markdown",
   "id": "1a8b771c-897e-409a-aac6-dc7c25c1eec9",
   "metadata": {},
   "source": [
    "# Blockquotes\n",
    "> This is quote\n",
    "\n",
    "<blockquote>This is also quote</blockquote>"
   ]
  },
  {
   "cell_type": "markdown",
   "id": "24d750ef-c003-400e-b701-5b023a71cc58",
   "metadata": {},
   "source": [
    "# Mathematical Symbols\n",
    "The mathematical symbol in Markdown is included in '\\$ mathematical expression goes here \\$' enclosed in a dollar symbol and in Markup you can follow this link for more detail: Mathematical Operators.\n",
    "\n",
    "\\$\\sqrt{k}$"
   ]
  },
  {
   "cell_type": "markdown",
   "id": "2fdf7392-7893-4fa6-a331-c252dc195b75",
   "metadata": {},
   "source": [
    "# Line Break\n",
    "The line breaks after using <br> br tags and it is awesome."
   ]
  },
  {
   "cell_type": "markdown",
   "id": "e74e8be1-0ae8-4977-a994-af23fc73f9b0",
   "metadata": {},
   "source": [
    "# Colored note boxes\n",
    "<div class=\"alert alert-block alert-info\">\n",
    "<b>Tip:</b> Use blue boxes (alert-info) for tips and notes. \n",
    "If it’s a note, you don’t have to include the word “Note”.\n",
    "</div>\n",
    "\n",
    "<div class=\"alert alert-block alert-warning\">\n",
    "<b>Example:</b> Use yellow boxes for examples that are not \n",
    "inside code cells, or use for mathematical formulas if needed.\n",
    "</div>\n",
    "\n",
    "<div class=\"alert alert-block alert-success\">\n",
    "<b>Up to you:</b> Use green boxes sparingly, and only for some specific \n",
    "purpose that the other boxes can't cover. For example, if you have a lot \n",
    "of related content to link to, maybe you decide to use green boxes for \n",
    "related links from each section of a notebook.\n",
    "</div>\n",
    "\n",
    "<div class=\"alert alert-block alert-danger\">\n",
    "<b>Just don't:</b> In general, avoid the red boxes. These should only be\n",
    "used for actions that might cause data loss or another major issue.\n",
    "</div>"
   ]
  },
  {
   "cell_type": "markdown",
   "id": "3e413bab-f95d-40ab-99bd-d5fbabc9a997",
   "metadata": {},
   "source": [
    "# Table\n",
    "\n",
    "| Stretch/Untouched | ProbDistribution | Accuracy |\n",
    "| --- | --- | --- |\n",
    "| Stretched | Gaussian | .843 |\n",
    "\n",
    "   | | Sentence #  | Word    | POS   | Tag   |\n",
    "|---:|:-------------|:-----------|:------|:------|\n",
    "| 1 | Sentence: 1  | They       | PRP   | O     |\n",
    "| 2 | Sentence: 1  | marched    | VBD   | O     |"
   ]
  },
  {
   "cell_type": "markdown",
   "id": "bee5dc6a-706b-487e-b9ec-337ff8b0f79a",
   "metadata": {},
   "source": [
    "# Literal asteriks\n",
    "\\*literal asteriks\\*"
   ]
  },
  {
   "cell_type": "markdown",
   "id": "a97318cd-eb9e-4174-9350-52c5ec4545bb",
   "metadata": {},
   "source": [
    "# Striketrough\n",
    "~~strikethrough~~"
   ]
  },
  {
   "cell_type": "markdown",
   "id": "5e9d6182-8b42-4165-87ea-4944fa5e0905",
   "metadata": {},
   "source": [
    "# Anchor\n",
    "< a id=\"anchor\"></a>\n",
    "[Go to anchor](#anchor)\n",
    "\n",
    "# Top Header\n",
    "[Go to header](#Top-Header)\n",
    "\n",
    "Muszę jeszcze ogarnąc jak to działa."
   ]
  }
 ],
 "metadata": {
  "kernelspec": {
   "display_name": "Python 3 (ipykernel)",
   "language": "python",
   "name": "python3"
  },
  "language_info": {
   "codemirror_mode": {
    "name": "ipython",
    "version": 3
   },
   "file_extension": ".py",
   "mimetype": "text/x-python",
   "name": "python",
   "nbconvert_exporter": "python",
   "pygments_lexer": "ipython3",
   "version": "3.9.0"
  }
 },
 "nbformat": 4,
 "nbformat_minor": 5
}
